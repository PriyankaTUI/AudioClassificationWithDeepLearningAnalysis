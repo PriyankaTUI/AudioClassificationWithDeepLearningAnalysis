{
  "nbformat": 4,
  "nbformat_minor": 0,
  "metadata": {
    "colab": {
      "name": "LearningWithoutForgetting.ipynb",
      "provenance": [],
      "collapsed_sections": [],
      "authorship_tag": "ABX9TyPK7MINygEWCbRZdCnlrdvG",
      "include_colab_link": true
    },
    "kernelspec": {
      "name": "python3",
      "display_name": "Python 3"
    },
    "language_info": {
      "name": "python"
    },
    "widgets": {
      "application/vnd.jupyter.widget-state+json": {
        "2b324f0d7cf245939fae35eef194be94": {
          "model_module": "@jupyter-widgets/controls",
          "model_name": "HBoxModel",
          "model_module_version": "1.5.0",
          "state": {
            "_dom_classes": [],
            "_model_module": "@jupyter-widgets/controls",
            "_model_module_version": "1.5.0",
            "_model_name": "HBoxModel",
            "_view_count": null,
            "_view_module": "@jupyter-widgets/controls",
            "_view_module_version": "1.5.0",
            "_view_name": "HBoxView",
            "box_style": "",
            "children": [
              "IPY_MODEL_a382eb75bc6748e68f2d3aef95cb6bb7",
              "IPY_MODEL_72ceba2e6cba4456acf0e6bf73ad6f2a",
              "IPY_MODEL_4cee9939461e41e4823d3dbf49efb05d"
            ],
            "layout": "IPY_MODEL_c2016eb4b78b4b09808161b63e1e1ea3"
          }
        },
        "a382eb75bc6748e68f2d3aef95cb6bb7": {
          "model_module": "@jupyter-widgets/controls",
          "model_name": "HTMLModel",
          "model_module_version": "1.5.0",
          "state": {
            "_dom_classes": [],
            "_model_module": "@jupyter-widgets/controls",
            "_model_module_version": "1.5.0",
            "_model_name": "HTMLModel",
            "_view_count": null,
            "_view_module": "@jupyter-widgets/controls",
            "_view_module_version": "1.5.0",
            "_view_name": "HTMLView",
            "description": "",
            "description_tooltip": null,
            "layout": "IPY_MODEL_aff96a7c66834e1799cb5c7e76c8b96f",
            "placeholder": "​",
            "style": "IPY_MODEL_289fe3d105414d769cc04741c76935aa",
            "value": "100%"
          }
        },
        "72ceba2e6cba4456acf0e6bf73ad6f2a": {
          "model_module": "@jupyter-widgets/controls",
          "model_name": "FloatProgressModel",
          "model_module_version": "1.5.0",
          "state": {
            "_dom_classes": [],
            "_model_module": "@jupyter-widgets/controls",
            "_model_module_version": "1.5.0",
            "_model_name": "FloatProgressModel",
            "_view_count": null,
            "_view_module": "@jupyter-widgets/controls",
            "_view_module_version": "1.5.0",
            "_view_name": "ProgressView",
            "bar_style": "success",
            "description": "",
            "description_tooltip": null,
            "layout": "IPY_MODEL_52030cee2da948f3bf334297faca02df",
            "max": 2428923189,
            "min": 0,
            "orientation": "horizontal",
            "style": "IPY_MODEL_d2a250baff7b41048e12047ee232a1c2",
            "value": 2428923189
          }
        },
        "4cee9939461e41e4823d3dbf49efb05d": {
          "model_module": "@jupyter-widgets/controls",
          "model_name": "HTMLModel",
          "model_module_version": "1.5.0",
          "state": {
            "_dom_classes": [],
            "_model_module": "@jupyter-widgets/controls",
            "_model_module_version": "1.5.0",
            "_model_name": "HTMLModel",
            "_view_count": null,
            "_view_module": "@jupyter-widgets/controls",
            "_view_module_version": "1.5.0",
            "_view_name": "HTMLView",
            "description": "",
            "description_tooltip": null,
            "layout": "IPY_MODEL_58b72962cd23422e9dda855bb450b5c3",
            "placeholder": "​",
            "style": "IPY_MODEL_6cbbe7c5f13e4b7593a7bd3822cd6f7a",
            "value": " 2.26G/2.26G [00:10&lt;00:00, 156MB/s]"
          }
        },
        "c2016eb4b78b4b09808161b63e1e1ea3": {
          "model_module": "@jupyter-widgets/base",
          "model_name": "LayoutModel",
          "model_module_version": "1.2.0",
          "state": {
            "_model_module": "@jupyter-widgets/base",
            "_model_module_version": "1.2.0",
            "_model_name": "LayoutModel",
            "_view_count": null,
            "_view_module": "@jupyter-widgets/base",
            "_view_module_version": "1.2.0",
            "_view_name": "LayoutView",
            "align_content": null,
            "align_items": null,
            "align_self": null,
            "border": null,
            "bottom": null,
            "display": null,
            "flex": null,
            "flex_flow": null,
            "grid_area": null,
            "grid_auto_columns": null,
            "grid_auto_flow": null,
            "grid_auto_rows": null,
            "grid_column": null,
            "grid_gap": null,
            "grid_row": null,
            "grid_template_areas": null,
            "grid_template_columns": null,
            "grid_template_rows": null,
            "height": null,
            "justify_content": null,
            "justify_items": null,
            "left": null,
            "margin": null,
            "max_height": null,
            "max_width": null,
            "min_height": null,
            "min_width": null,
            "object_fit": null,
            "object_position": null,
            "order": null,
            "overflow": null,
            "overflow_x": null,
            "overflow_y": null,
            "padding": null,
            "right": null,
            "top": null,
            "visibility": null,
            "width": null
          }
        },
        "aff96a7c66834e1799cb5c7e76c8b96f": {
          "model_module": "@jupyter-widgets/base",
          "model_name": "LayoutModel",
          "model_module_version": "1.2.0",
          "state": {
            "_model_module": "@jupyter-widgets/base",
            "_model_module_version": "1.2.0",
            "_model_name": "LayoutModel",
            "_view_count": null,
            "_view_module": "@jupyter-widgets/base",
            "_view_module_version": "1.2.0",
            "_view_name": "LayoutView",
            "align_content": null,
            "align_items": null,
            "align_self": null,
            "border": null,
            "bottom": null,
            "display": null,
            "flex": null,
            "flex_flow": null,
            "grid_area": null,
            "grid_auto_columns": null,
            "grid_auto_flow": null,
            "grid_auto_rows": null,
            "grid_column": null,
            "grid_gap": null,
            "grid_row": null,
            "grid_template_areas": null,
            "grid_template_columns": null,
            "grid_template_rows": null,
            "height": null,
            "justify_content": null,
            "justify_items": null,
            "left": null,
            "margin": null,
            "max_height": null,
            "max_width": null,
            "min_height": null,
            "min_width": null,
            "object_fit": null,
            "object_position": null,
            "order": null,
            "overflow": null,
            "overflow_x": null,
            "overflow_y": null,
            "padding": null,
            "right": null,
            "top": null,
            "visibility": null,
            "width": null
          }
        },
        "289fe3d105414d769cc04741c76935aa": {
          "model_module": "@jupyter-widgets/controls",
          "model_name": "DescriptionStyleModel",
          "model_module_version": "1.5.0",
          "state": {
            "_model_module": "@jupyter-widgets/controls",
            "_model_module_version": "1.5.0",
            "_model_name": "DescriptionStyleModel",
            "_view_count": null,
            "_view_module": "@jupyter-widgets/base",
            "_view_module_version": "1.2.0",
            "_view_name": "StyleView",
            "description_width": ""
          }
        },
        "52030cee2da948f3bf334297faca02df": {
          "model_module": "@jupyter-widgets/base",
          "model_name": "LayoutModel",
          "model_module_version": "1.2.0",
          "state": {
            "_model_module": "@jupyter-widgets/base",
            "_model_module_version": "1.2.0",
            "_model_name": "LayoutModel",
            "_view_count": null,
            "_view_module": "@jupyter-widgets/base",
            "_view_module_version": "1.2.0",
            "_view_name": "LayoutView",
            "align_content": null,
            "align_items": null,
            "align_self": null,
            "border": null,
            "bottom": null,
            "display": null,
            "flex": null,
            "flex_flow": null,
            "grid_area": null,
            "grid_auto_columns": null,
            "grid_auto_flow": null,
            "grid_auto_rows": null,
            "grid_column": null,
            "grid_gap": null,
            "grid_row": null,
            "grid_template_areas": null,
            "grid_template_columns": null,
            "grid_template_rows": null,
            "height": null,
            "justify_content": null,
            "justify_items": null,
            "left": null,
            "margin": null,
            "max_height": null,
            "max_width": null,
            "min_height": null,
            "min_width": null,
            "object_fit": null,
            "object_position": null,
            "order": null,
            "overflow": null,
            "overflow_x": null,
            "overflow_y": null,
            "padding": null,
            "right": null,
            "top": null,
            "visibility": null,
            "width": null
          }
        },
        "d2a250baff7b41048e12047ee232a1c2": {
          "model_module": "@jupyter-widgets/controls",
          "model_name": "ProgressStyleModel",
          "model_module_version": "1.5.0",
          "state": {
            "_model_module": "@jupyter-widgets/controls",
            "_model_module_version": "1.5.0",
            "_model_name": "ProgressStyleModel",
            "_view_count": null,
            "_view_module": "@jupyter-widgets/base",
            "_view_module_version": "1.2.0",
            "_view_name": "StyleView",
            "bar_color": null,
            "description_width": ""
          }
        },
        "58b72962cd23422e9dda855bb450b5c3": {
          "model_module": "@jupyter-widgets/base",
          "model_name": "LayoutModel",
          "model_module_version": "1.2.0",
          "state": {
            "_model_module": "@jupyter-widgets/base",
            "_model_module_version": "1.2.0",
            "_model_name": "LayoutModel",
            "_view_count": null,
            "_view_module": "@jupyter-widgets/base",
            "_view_module_version": "1.2.0",
            "_view_name": "LayoutView",
            "align_content": null,
            "align_items": null,
            "align_self": null,
            "border": null,
            "bottom": null,
            "display": null,
            "flex": null,
            "flex_flow": null,
            "grid_area": null,
            "grid_auto_columns": null,
            "grid_auto_flow": null,
            "grid_auto_rows": null,
            "grid_column": null,
            "grid_gap": null,
            "grid_row": null,
            "grid_template_areas": null,
            "grid_template_columns": null,
            "grid_template_rows": null,
            "height": null,
            "justify_content": null,
            "justify_items": null,
            "left": null,
            "margin": null,
            "max_height": null,
            "max_width": null,
            "min_height": null,
            "min_width": null,
            "object_fit": null,
            "object_position": null,
            "order": null,
            "overflow": null,
            "overflow_x": null,
            "overflow_y": null,
            "padding": null,
            "right": null,
            "top": null,
            "visibility": null,
            "width": null
          }
        },
        "6cbbe7c5f13e4b7593a7bd3822cd6f7a": {
          "model_module": "@jupyter-widgets/controls",
          "model_name": "DescriptionStyleModel",
          "model_module_version": "1.5.0",
          "state": {
            "_model_module": "@jupyter-widgets/controls",
            "_model_module_version": "1.5.0",
            "_model_name": "DescriptionStyleModel",
            "_view_count": null,
            "_view_module": "@jupyter-widgets/base",
            "_view_module_version": "1.2.0",
            "_view_name": "StyleView",
            "description_width": ""
          }
        }
      }
    }
  },
  "cells": [
    {
      "cell_type": "markdown",
      "metadata": {
        "id": "view-in-github",
        "colab_type": "text"
      },
      "source": [
        "<a href=\"https://colab.research.google.com/github/PriyankaTUI/AudioClassificationWithDeepLearningAnalysis/blob/master/LearningWithoutForgetting.ipynb\" target=\"_parent\"><img src=\"https://colab.research.google.com/assets/colab-badge.svg\" alt=\"Open In Colab\"/></a>"
      ]
    },
    {
      "cell_type": "code",
      "execution_count": 1,
      "metadata": {
        "colab": {
          "base_uri": "https://localhost:8080/"
        },
        "id": "xcxt-h3EMUu3",
        "outputId": "0187fb67-ced7-4318-82a9-869b1233499f"
      },
      "outputs": [
        {
          "output_type": "stream",
          "name": "stdout",
          "text": [
            "Cloning into 'AudioClassificationWithDeepLearningAnalysis'...\n",
            "remote: Enumerating objects: 38, done.\u001b[K\n",
            "remote: Counting objects: 100% (38/38), done.\u001b[K\n",
            "remote: Compressing objects: 100% (28/28), done.\u001b[K\n",
            "remote: Total 38 (delta 10), reused 28 (delta 5), pack-reused 0\u001b[K\n",
            "Unpacking objects: 100% (38/38), done.\n",
            "/content/AudioClassificationWithDeepLearningAnalysis\n",
            "/content/AudioClassificationWithDeepLearningAnalysis\n"
          ]
        }
      ],
      "source": [
        "!git clone https://github.com/PriyankaTUI/AudioClassificationWithDeepLearningAnalysis.git\n",
        "%cd AudioClassificationWithDeepLearningAnalysis\n",
        "!pwd"
      ]
    },
    {
      "cell_type": "code",
      "source": [
        "import numpy as np\n",
        "import torch\n",
        "import models\n",
        "import copy\n",
        "import torch.nn.functional as F"
      ],
      "metadata": {
        "id": "uCT7DXOENMac"
      },
      "execution_count": 2,
      "outputs": []
    },
    {
      "cell_type": "markdown",
      "source": [
        "Adding google speech command dataset"
      ],
      "metadata": {
        "id": "1TMCicA5CEc0"
      }
    },
    {
      "cell_type": "code",
      "source": [
        "import torchaudio\n",
        "\n",
        "dataset = torchaudio.datasets.SPEECHCOMMANDS('./dataset/data/' , url = 'speech_commands_v0.02', folder_in_archive= 'SpeechCommands',  download = True)"
      ],
      "metadata": {
        "id": "BivZSZrnCDYI",
        "colab": {
          "base_uri": "https://localhost:8080/",
          "height": 49,
          "referenced_widgets": [
            "2b324f0d7cf245939fae35eef194be94",
            "a382eb75bc6748e68f2d3aef95cb6bb7",
            "72ceba2e6cba4456acf0e6bf73ad6f2a",
            "4cee9939461e41e4823d3dbf49efb05d",
            "c2016eb4b78b4b09808161b63e1e1ea3",
            "aff96a7c66834e1799cb5c7e76c8b96f",
            "289fe3d105414d769cc04741c76935aa",
            "52030cee2da948f3bf334297faca02df",
            "d2a250baff7b41048e12047ee232a1c2",
            "58b72962cd23422e9dda855bb450b5c3",
            "6cbbe7c5f13e4b7593a7bd3822cd6f7a"
          ]
        },
        "outputId": "6cf7c7bd-ca69-4811-86ca-3999d900386a"
      },
      "execution_count": 3,
      "outputs": [
        {
          "output_type": "display_data",
          "data": {
            "text/plain": [
              "  0%|          | 0.00/2.26G [00:00<?, ?B/s]"
            ],
            "application/vnd.jupyter.widget-view+json": {
              "version_major": 2,
              "version_minor": 0,
              "model_id": "2b324f0d7cf245939fae35eef194be94"
            }
          },
          "metadata": {}
        }
      ]
    },
    {
      "cell_type": "markdown",
      "source": [
        "split dataset and add to dataloder.\n",
        "\n",
        "Use different transformation for it"
      ],
      "metadata": {
        "id": "MXB7gRDeIMU_"
      }
    },
    {
      "cell_type": "code",
      "source": [
        "labels = sorted(list(set(datapoint[2] for datapoint in dataset)))\n",
        "labels"
      ],
      "metadata": {
        "id": "XxovDvPIaw9c",
        "colab": {
          "base_uri": "https://localhost:8080/"
        },
        "outputId": "6cf43a44-e77e-4fd6-9022-990bfa01c535"
      },
      "execution_count": 4,
      "outputs": [
        {
          "output_type": "execute_result",
          "data": {
            "text/plain": [
              "['backward',\n",
              " 'bed',\n",
              " 'bird',\n",
              " 'cat',\n",
              " 'dog',\n",
              " 'down',\n",
              " 'eight',\n",
              " 'five',\n",
              " 'follow',\n",
              " 'forward',\n",
              " 'four',\n",
              " 'go',\n",
              " 'happy',\n",
              " 'house',\n",
              " 'learn',\n",
              " 'left',\n",
              " 'marvin',\n",
              " 'nine',\n",
              " 'no',\n",
              " 'off',\n",
              " 'on',\n",
              " 'one',\n",
              " 'right',\n",
              " 'seven',\n",
              " 'sheila',\n",
              " 'six',\n",
              " 'stop',\n",
              " 'three',\n",
              " 'tree',\n",
              " 'two',\n",
              " 'up',\n",
              " 'visual',\n",
              " 'wow',\n",
              " 'yes',\n",
              " 'zero']"
            ]
          },
          "metadata": {},
          "execution_count": 4
        }
      ]
    },
    {
      "cell_type": "code",
      "source": [
        "import random\n",
        "# random_targets = random.sample(labels, 3)\n",
        "# print(f\"Randomly selected tagets: {random_targets}\")\n",
        "\n",
        "random_targets = ['right', 'down', 'yes']\n",
        "print(f\"Randomly selected tagets: {random_targets}\")\n",
        "\n",
        "digits = [0, 1, 2, 3, 4, 5, 6, 7, 8, 9]\n",
        "labels = digits + random_targets\n",
        "print(f\"List of all target classes: {labels}\"\n",
        ")\n",
        "def label_to_index(label):\n",
        "    # Return the position of the word in labels\n",
        "    return torch.tensor(labels.index(label))\n",
        "\n",
        "\n",
        "def index_to_label(index):\n",
        "    # Return the word corresponding to the index in labels\n",
        "    # This is the inverse of label_to_index\n",
        "    return labels[index]\n",
        "\n",
        "tensors = []\n",
        "targets = []\n",
        "for waveform, sample_rate, label, *_ in dataset:\n",
        "  if label in random_targets:\n",
        "    if sample_rate == 16000:\n",
        "      if waveform.shape == (1, 16000):\n",
        "        tensors += [torchaudio.transforms.MFCC(sample_rate=sample_rate, n_mfcc=32)(waveform)]\n",
        "        targets += [label_to_index(label)]\n",
        "\n",
        "print(f\"indext for selected targets: {label_to_index(random_targets[0])} , {label_to_index(random_targets[1])}, {label_to_index(random_targets[2])}\")\n",
        "print(len(tensors))\n",
        "print(len(targets))\n",
        "print(f\"Shape of waveform after MFCC wit n_mfcc=32: {tensors[0].shape}\")"
      ],
      "metadata": {
        "colab": {
          "base_uri": "https://localhost:8080/"
        },
        "id": "vi4YQHdrcoIz",
        "outputId": "0c55ec89-70f5-45c9-9b7d-5f93aedd577a"
      },
      "execution_count": 27,
      "outputs": [
        {
          "output_type": "stream",
          "name": "stdout",
          "text": [
            "Randomly selected tagets: ['right', 'down', 'yes']\n",
            "List of all target classes: [0, 1, 2, 3, 4, 5, 6, 7, 8, 9, 'right', 'down', 'yes']\n"
          ]
        },
        {
          "output_type": "stream",
          "name": "stderr",
          "text": [
            "/usr/local/lib/python3.7/dist-packages/torchaudio/functional/functional.py:595: UserWarning: At least one mel filterbank has all zero values. The value for `n_mels` (128) may be set too high. Or, the value for `n_freqs` (201) may be set too low.\n",
            "  \"At least one mel filterbank has all zero values. \"\n"
          ]
        },
        {
          "output_type": "stream",
          "name": "stdout",
          "text": [
            "indext for selected targets: 10 , 11, 12\n",
            "10720\n",
            "10720\n",
            "Shape of waveform after MFCC wit n_mfcc=32: torch.Size([1, 32, 81])\n"
          ]
        }
      ]
    },
    {
      "cell_type": "code",
      "source": [
        "import torch.nn as nn\n",
        "train_audio_transforms = nn.Sequential(\n",
        "    torchaudio.transforms.Resample(16000, 16000),\n",
        "    torchaudio.transforms.MFCC(sample_rate=8000)\n",
        ")\n",
        "\n",
        "def data_processing(data, data_type=\"train\"):\n",
        "  mfcc = []\n",
        "  for tensor, target in data:\n",
        "    mfcc += train_audio_transforms(tensor)\n",
        "  return mfcc, targets\n"
      ],
      "metadata": {
        "id": "3q0Wpk21iJ0m"
      },
      "execution_count": 7,
      "outputs": []
    },
    {
      "cell_type": "code",
      "source": [
        "from torch.utils.data import Dataset\n",
        "\n",
        "class SpeechCommandSubDataset(Dataset):\n",
        "    \n",
        "    def __init__(self,data,labels):\n",
        "        self.data = data\n",
        "        self.labels = labels\n",
        "        # self.label_dict = list_dir\n",
        "        # self.transform = transform\n",
        "            \n",
        "    def __len__(self):\n",
        "        return len(self.data)    \n",
        "    \n",
        "    def __getitem__(self,idx):\n",
        "        return self.data[idx], self.labels[idx]"
      ],
      "metadata": {
        "id": "tY4N1iJGnFaL"
      },
      "execution_count": 28,
      "outputs": []
    },
    {
      "cell_type": "code",
      "source": [
        "from torch.utils.data import DataLoader,random_split,Dataset\n",
        "\n",
        "valid_dataset = SpeechCommandSubDataset(tensors, targets)\n",
        "traindata, testdata = random_split(valid_dataset, [round(len(valid_dataset)*.8), round(len(valid_dataset)*.2)])\n",
        "\n",
        "\n",
        "trainloader = DataLoader(traindata, batch_size=5, shuffle=True)\n",
        "testloader = DataLoader(testdata, batch_size=5, shuffle=True)"
      ],
      "metadata": {
        "id": "Mx10H_kmH0xv"
      },
      "execution_count": 29,
      "outputs": []
    },
    {
      "cell_type": "code",
      "source": [
        "# Display image and label.\n",
        "import matplotlib.pyplot as plt\n",
        "from torchvision.utils import make_grid\n",
        "train_features, train_labels = next(iter(trainloader))\n",
        "print(f\"Feature batch shape: {train_features.size()}\")\n",
        "print(f\"Labels batch shape: {train_labels.size()}\")\n",
        "img = train_features[0].squeeze()\n",
        "label = train_labels[0]\n",
        "plt.imshow(img)\n",
        "plt.show()\n",
        "print(img.shape)\n",
        "print(f\"Label: {label}\")\n",
        "\n",
        "img = train_features[1].squeeze()\n",
        "label = train_labels[1]\n",
        "plt.imshow(img)\n",
        "plt.show()\n",
        "print(img.shape)\n",
        "print(f\"Label: {label}\")\n",
        "\n",
        "img = train_features[2].squeeze()\n",
        "label = train_labels[3]\n",
        "plt.imshow(img)\n",
        "plt.show()\n",
        "print(img.shape)\n",
        "print(f\"Label: {label}\")\n",
        "\n",
        "img = train_features[3].squeeze()\n",
        "label = train_labels[3]\n",
        "plt.imshow(img)\n",
        "plt.show()\n",
        "print(img.shape)\n",
        "print(f\"Label: {label}\")\n",
        "# grid = make_grid(train_features)\n",
        "# show(grid)"
      ],
      "metadata": {
        "colab": {
          "base_uri": "https://localhost:8080/",
          "height": 851
        },
        "id": "PWS0P5FIKNKv",
        "outputId": "16eb41c1-6806-445c-f936-09e842a475fd"
      },
      "execution_count": 38,
      "outputs": [
        {
          "output_type": "stream",
          "name": "stdout",
          "text": [
            "Feature batch shape: torch.Size([5, 1, 32, 81])\n",
            "Labels batch shape: torch.Size([5])\n"
          ]
        },
        {
          "output_type": "display_data",
          "data": {
            "text/plain": [
              "<Figure size 432x288 with 1 Axes>"
            ],
            "image/png": "[encoded data removed]"
          },
          "metadata": {
            "needs_background": "light"
          }
        },
        {
          "output_type": "stream",
          "name": "stdout",
          "text": [
            "torch.Size([32, 81])\n",
            "Label: 12\n"
          ]
        },
        {
          "output_type": "display_data",
          "data": {
            "text/plain": [
              "<Figure size 432x288 with 1 Axes>"
            ],
            "image/png": "[encoded data removed]"
          },
          "metadata": {
            "needs_background": "light"
          }
        },
        {
          "output_type": "stream",
          "name": "stdout",
          "text": [
            "torch.Size([32, 81])\n",
            "Label: 11\n"
          ]
        },
        {
          "output_type": "display_data",
          "data": {
            "text/plain": [
              "<Figure size 432x288 with 1 Axes>"
            ],
            "image/png": "[encoded data removed]"
          },
          "metadata": {
            "needs_background": "light"
          }
        },
        {
          "output_type": "stream",
          "name": "stdout",
          "text": [
            "torch.Size([32, 81])\n",
            "Label: 12\n"
          ]
        },
        {
          "output_type": "display_data",
          "data": {
            "text/plain": [
              "<Figure size 432x288 with 1 Axes>"
            ],
            "image/png": "[encoded data removed]"
          },
          "metadata": {
            "needs_background": "light"
          }
        },
        {
          "output_type": "stream",
          "name": "stdout",
          "text": [
            "torch.Size([32, 81])\n",
            "Label: 12\n"
          ]
        }
      ]
    },
    {
      "cell_type": "code",
      "source": [
        "#do i need to reshape my data\n",
        "for I, _data in enumerate(trainloader):\n",
        "  #waveform is tensor torch.Size([5, 1, 16000])\n",
        "  #labels is tesnor torch.Size([3]). why 3 and not 5?\n",
        "  #waveform, labels=  _data \n",
        "  print(_data)\n"
      ],
      "metadata": {
        "id": "fd92iMZEH0_H"
      },
      "execution_count": null,
      "outputs": []
    },
    {
      "cell_type": "markdown",
      "source": [
        "**Trying to add new class parameters to the model: need tocheck how many nodes get added to analyse how much comutation would incease**"
      ],
      "metadata": {
        "id": "VYNTNI0uzy6-"
      }
    },
    {
      "cell_type": "code",
      "source": [
        "device = torch.device(\"cuda\" if torch.cuda.is_available() else \"cpu\")\n",
        "print(f\"Selected device is: {device}\")\n",
        "model = models.cnnModel()\n",
        "pretrained_model_path = \"./savedmodels/best_model_state.pt\"\n",
        "model.load_state_dict(copy.deepcopy(torch.load(pretrained_model_path, map_location='cpu')), strict=False)\n",
        "\n",
        "#add new class parameters , here we have added 3 new classes\n",
        "input_features = model.fc3.in_features\n",
        "output_features = model.fc3.out_features\n",
        "print(f\"Pre-trained model input features: {input_features}\")\n",
        "print(f\"Pre-trained model output features: {output_features}\")\n",
        "\n",
        "params = list(model.parameters())\n",
        "print(f\"Number of total parameters used in a network: {len(params)}\")\n",
        "print(f\"Old model: {model}\")\n",
        "\n",
        "new_output_features = output_features + len(random_targets)\n",
        "print(f\"new output features: {new_output_features}\")\n",
        "\n",
        "model.fc3 = nn.Linear(in_features=input_features, out_features= new_output_features)\n",
        "input_features = model.fc3.in_features\n",
        "output_features = model.fc3.out_features\n",
        "print(f\"New model input features: {input_features}\")\n",
        "print(f\"New model output features: {output_features}\")\n",
        "\n",
        "params = list(model.parameters())\n",
        "print(f\"Number of total parameters used in a network: {len(params)}\")\n",
        "print(f\"New model; {model}\")"
      ],
      "metadata": {
        "colab": {
          "base_uri": "https://localhost:8080/"
        },
        "id": "GE6meEWizyex",
        "outputId": "9ebb8ee6-e890-48d7-e4a8-f84c3258acc9"
      },
      "execution_count": 39,
      "outputs": [
        {
          "output_type": "stream",
          "name": "stdout",
          "text": [
            "Selected device is: cpu\n",
            "Pre-trained model input features: 256\n",
            "Pre-trained model output features: 11\n",
            "Number of total parameters used in a network: 8\n",
            "Old model: Net(\n",
            "  (conv): Conv2d(1, 512, kernel_size=(16, 16), stride=(1, 1))\n",
            "  (pool): MaxPool2d(kernel_size=8, stride=8, padding=0, dilation=1, ceil_mode=False)\n",
            "  (dropout): Dropout(p=0.25, inplace=False)\n",
            "  (fc1): Linear(in_features=2048, out_features=1024, bias=True)\n",
            "  (fc2): Linear(in_features=1024, out_features=256, bias=True)\n",
            "  (fc3): Linear(in_features=256, out_features=11, bias=True)\n",
            ")\n",
            "new output features: 14\n",
            "New model input features: 256\n",
            "New model output features: 14\n",
            "Number of total parameters used in a network: 8\n",
            "New model; Net(\n",
            "  (conv): Conv2d(1, 512, kernel_size=(16, 16), stride=(1, 1))\n",
            "  (pool): MaxPool2d(kernel_size=8, stride=8, padding=0, dilation=1, ceil_mode=False)\n",
            "  (dropout): Dropout(p=0.25, inplace=False)\n",
            "  (fc1): Linear(in_features=2048, out_features=1024, bias=True)\n",
            "  (fc2): Linear(in_features=1024, out_features=256, bias=True)\n",
            "  (fc3): Linear(in_features=256, out_features=14, bias=True)\n",
            ")\n"
          ]
        }
      ]
    },
    {
      "cell_type": "code",
      "source": [
        "conv1 = nn.Conv2d(1, 512, kernel_size=(16, 16), stride=(1, 1))\n",
        "logits = F.leaky_relu(conv1(train_features))\n",
        "print(f\"Shape after conv layer 1: {logits.shape}\")\n",
        "pool = nn.MaxPool2d(kernel_size=8, stride=8, padding=0, dilation=1, ceil_mode=False)\n",
        "logits = pool(logits)\n",
        "print(f\"Shape after max_pool conv layer 1: {logits.shape}\")\n",
        "drop = nn.Dropout(p=0.25)\n",
        "logits = drop(logits)\n",
        "print(f\"Shape after drop: {logits.shape}\")\n",
        "# print(f\"shape of 1D converted logits to pass to Linear layer further: {torch.flatten(logits).shape}\")\n",
        "#\n",
        "logits = logits.view(logits.size(0),-1)\n",
        "fc1 = nn.Linear(in_features=512*2*8, out_features=1024, bias=True)\n",
        "logits  = F.leaky_relu(fc1(logits))\n",
        "print(f\"Shape after fc1: {logits.shape}\")\n",
        "\n",
        "fc2 = nn.Linear(in_features=1024, out_features=256, bias=True)\n",
        "logits = drop(logits)\n",
        "logits = F.leaky_relu(fc2(logits))\n",
        "print(f\"Shape after fc2: {logits.shape}\")\n",
        "\n",
        "fc3 = nn.Linear(in_features=256, out_features=14, bias=True)\n",
        "logits = fc3(logits)\n",
        "print(f\"Shape after fc3: {logits.shape}\")\n",
        "\n",
        "#todo: change 11 to 10 classes for pre-trained model"
      ],
      "metadata": {
        "colab": {
          "base_uri": "https://localhost:8080/"
        },
        "id": "Zs5_scNgOYK-",
        "outputId": "06f134e4-a178-4929-c829-c2415d6bd264"
      },
      "execution_count": 66,
      "outputs": [
        {
          "output_type": "stream",
          "name": "stdout",
          "text": [
            "Shape after conv layer 1: torch.Size([5, 512, 17, 66])\n",
            "Shape after max_pool conv layer 1: torch.Size([5, 512, 2, 8])\n",
            "Shape after drop: torch.Size([5, 512, 2, 8])\n",
            "Shape after fc1: torch.Size([5, 1024])\n",
            "Shape after fc2: torch.Size([5, 256])\n",
            "Shape after fc3: torch.Size([5, 14])\n"
          ]
        }
      ]
    },
    {
      "cell_type": "markdown",
      "source": [
        "**Cross Entropy loss and Distillation loss**:\n",
        "\n",
        "\n",
        "\n",
        "In pytorch nn.crossEntropyLoss already applied softmax function:\n",
        "\n",
        "nn.crossEntropyLoss = nn.LogSoftmax + nn.NLLLoss\n",
        "\n",
        "therefore, no sofmax in last layer and y_actual should be one hot encoded and logits should be raw from linera layer"
      ],
      "metadata": {
        "id": "IuU1SWHM5Euu"
      }
    },
    {
      "cell_type": "code",
      "source": [
        "import numpy as np\n",
        "import torch\n",
        "import torch.nn.functional as F\n",
        "import torch.nn as nn\n",
        "#lets try with creating functions from scratch\n",
        "T = 1\n",
        "def softmax(logits):\n",
        "  return np.exp(logits/T)/np.sum(np.exp(logits/T), axis=0)\n",
        "\n",
        "x = np.array([2.0, 1.0, 0.1])\n",
        "y_pred = softmax(x)\n",
        "print(f\"softmax output with numpy: {y_pred}\")\n",
        "\n",
        "#in pytorch\n",
        "x = torch.tensor([[2.0, 1.0, 0.1], [3.0, 1.0, 0.1]])\n",
        "y_pred = torch.softmax(x/T, dim=0)\n",
        "print(f\"softmax output with pytorch: {y_pred}\")\n",
        "\n",
        "#3d tensor softmax\n",
        "x = torch.tensor([[[2.0, 1.0, 0.1], [1.0, 1.0, 0.1]], [[2.0, 1.0, 0.1], [2.0, 1.0, 0.1]]])\n",
        "print(f\"shape of tensor {x.shape}\")\n",
        "y_pred = torch.softmax(x/T, dim=0)\n",
        "print(f\"softmax output with pytorch for 3D tensor in dim 0: {y_pred}\")\n",
        "y_pred = torch.softmax(x/T, dim=1)\n",
        "print(f\"softmax output with pytorch for 3D tensor in dim 1: {y_pred}\")\n",
        "y_pred = torch.softmax(x/T, dim=2)\n",
        "print(f\"softmax output with pytorch for 3D tensor in dim 2: {y_pred}\")\n",
        "#Cross entropy\n",
        "def cross_entropy(actual, predicted):\n",
        "  #predicted should be softmax of logits\n",
        "  #actual should be one hot encoded\n",
        "  loss = -np.sum(actual * np.log(predicted))\n",
        "  return loss #not normalized\n",
        "\n",
        "x = np.array([2.0, 1.0, 0.1])\n",
        "y_actual = np.array([0, 1, 0])\n",
        "loss = cross_entropy(y_actual, softmax(x))\n",
        "print(f\"cross entropy loss with numpy: {loss}\")\n",
        "\n",
        "#in pytorch\n",
        "#x should be of size nsamples x nclasses (1x3)\n",
        "x = torch.tensor([[2.0, 1.0, 0.1]])\n",
        "y_actual = torch.tensor([1]) #no hot encoded , only pass index of the class\n",
        "loss = nn.CrossEntropyLoss()\n",
        "l = loss(x, y_actual)\n",
        "print(f\"cross entropy loss with pytorch: {l.item()}\")\n",
        "\n",
        "\n",
        "#Distillation loss\n",
        "##temerature value decide how much weight should give to smaller propabilities\n",
        "##hight T value higher weightage to smaller probabilities \n",
        "T = 2\n",
        "y_pred = F.softmax(x/T, dim=1)\n",
        "print(f\"softmax output with pytorch functional: {y_pred}\")\n",
        "\n",
        "\n",
        "def knowledge_distillation_loss(old_logits, updated_logits, T):\n",
        "  prob_old_logits = F.softmax(old_logits/T, dim=1)\n",
        "  # print(prob_old_logits.shape)\n",
        "  log_prob_updated_logits = F.softmax(updated_logits/T, dim=1)\n",
        "  # print(log_prob_updated_logits.shape)\n",
        "  dist_loss = - (prob_old_logits * log_prob_updated_logits).sum(dim=1)\n",
        "  # print(dist_loss.shape)\n",
        "  dist_loss = dist_loss.mean()\n",
        "  return dist_loss\n",
        "\n",
        "#e.g 3 classes --> 3 labels of tensor size([3])\n",
        "old_logits = torch.rand(5,11)\n",
        "updated_logits = torch.rand(5,11)\n",
        "T = 1\n",
        "kd_loss = knowledge_distillation_loss(old_logits, updated_logits, T)\n",
        "print(f\"Knowledge distillation: {kd_loss} \")"
      ],
      "metadata": {
        "colab": {
          "base_uri": "https://localhost:8080/"
        },
        "id": "cKPVVawV5EQC",
        "outputId": "f236b8e7-9503-4451-95f1-2d701c1277b0"
      },
      "execution_count": null,
      "outputs": [
        {
          "output_type": "stream",
          "name": "stdout",
          "text": [
            "softmax output with numpy: [0.65900114 0.24243297 0.09856589]\n",
            "softmax output with pytorch: tensor([[0.2689, 0.5000, 0.5000],\n",
            "        [0.7311, 0.5000, 0.5000]])\n",
            "shape of tensor torch.Size([2, 2, 3])\n",
            "softmax output with pytorch for 3D tensor in dim 0: tensor([[[0.5000, 0.5000, 0.5000],\n",
            "         [0.2689, 0.5000, 0.5000]],\n",
            "\n",
            "        [[0.5000, 0.5000, 0.5000],\n",
            "         [0.7311, 0.5000, 0.5000]]])\n",
            "softmax output with pytorch for 3D tensor in dim 1: tensor([[[0.7311, 0.5000, 0.5000],\n",
            "         [0.2689, 0.5000, 0.5000]],\n",
            "\n",
            "        [[0.5000, 0.5000, 0.5000],\n",
            "         [0.5000, 0.5000, 0.5000]]])\n",
            "softmax output with pytorch for 3D tensor in dim 2: tensor([[[0.6590, 0.2424, 0.0986],\n",
            "         [0.4155, 0.4155, 0.1689]],\n",
            "\n",
            "        [[0.6590, 0.2424, 0.0986],\n",
            "         [0.6590, 0.2424, 0.0986]]])\n",
            "cross entropy loss with numpy: 1.4170300162778335\n",
            "cross entropy loss with pytorch: 1.4170299768447876\n",
            "softmax output with pytorch functional: tensor([[0.5017, 0.3043, 0.1940]])\n",
            "Knowledge distillation: -0.7995919585227966 \n"
          ]
        }
      ]
    },
    {
      "cell_type": "code",
      "source": [
        "tensor1 = torch.rand(2,5)\n",
        "tensor2 = torch.rand(2,5)\n",
        "print(f\"tensor1 : {tensor1}\")\n",
        "print(f\"tensor1 : {tensor2}\")\n",
        "print(f\"addition: {tensor1 + tensor2}\")\n",
        "tensor = torch.rand(2, 3, 4,5)\n",
        "print(tensor)\n",
        "tensor3 = torch.tensor([[[2.0, 1.0, 0.1], [2.0, 1.0, 0.1]] ,[[2.0, 1.0, 0.1], [2.0, 1.0, 0.1]]])\n",
        "print(tensor3.shape)"
      ],
      "metadata": {
        "id": "Qoa99NVH3zHr",
        "outputId": "64cab59a-9319-41f7-bad8-68203295cd02",
        "colab": {
          "base_uri": "https://localhost:8080/"
        }
      },
      "execution_count": null,
      "outputs": [
        {
          "output_type": "stream",
          "name": "stdout",
          "text": [
            "tensor1 : tensor([[0.4121, 0.0814, 0.6294, 0.6830, 0.7091],\n",
            "        [0.2044, 0.4821, 0.0080, 0.2398, 0.6811]])\n",
            "tensor1 : tensor([[0.2781, 0.0638, 0.1684, 0.3694, 0.7510],\n",
            "        [0.1884, 0.6669, 0.6748, 0.9250, 0.4021]])\n",
            "addition: tensor([[0.6903, 0.1452, 0.7978, 1.0523, 1.4601],\n",
            "        [0.3928, 1.1490, 0.6827, 1.1647, 1.0832]])\n",
            "tensor([[[[0.9701, 0.6414, 0.0139, 0.3798, 0.2563],\n",
            "          [0.0616, 0.7785, 0.3423, 0.2857, 0.6295],\n",
            "          [0.9482, 0.2272, 0.9472, 0.0610, 0.4925],\n",
            "          [0.9717, 0.2479, 0.0136, 0.9388, 0.4949]],\n",
            "\n",
            "         [[0.0206, 0.6370, 0.0084, 0.0033, 0.1794],\n",
            "          [0.0740, 0.2726, 0.1993, 0.0696, 0.7359],\n",
            "          [0.5071, 0.7440, 0.4200, 0.1331, 0.7226],\n",
            "          [0.8211, 0.2407, 0.9742, 0.3744, 0.3853]],\n",
            "\n",
            "         [[0.1420, 0.6136, 0.3525, 0.2356, 0.8280],\n",
            "          [0.4736, 0.7279, 0.9201, 0.7615, 0.9052],\n",
            "          [0.2509, 0.4007, 0.6267, 0.0033, 0.7524],\n",
            "          [0.8290, 0.1768, 0.5954, 0.9816, 0.9369]]],\n",
            "\n",
            "\n",
            "        [[[0.9215, 0.9197, 0.5631, 0.1644, 0.5980],\n",
            "          [0.5973, 0.7686, 0.3314, 0.7998, 0.0618],\n",
            "          [0.9076, 0.7331, 0.1591, 0.9809, 0.2897],\n",
            "          [0.0366, 0.9977, 0.9910, 0.4638, 0.9866]],\n",
            "\n",
            "         [[0.0763, 0.3312, 0.8218, 0.1697, 0.0407],\n",
            "          [0.0449, 0.6974, 0.0402, 0.5154, 0.4864],\n",
            "          [0.0507, 0.4356, 0.8915, 0.1801, 0.5931],\n",
            "          [0.1591, 0.0464, 0.3819, 0.8676, 0.3853]],\n",
            "\n",
            "         [[0.6330, 0.7310, 0.9218, 0.9693, 0.3189],\n",
            "          [0.6676, 0.0135, 0.6566, 0.0074, 0.8550],\n",
            "          [0.5332, 0.7643, 0.5606, 0.5395, 0.4094],\n",
            "          [0.1241, 0.4853, 0.8184, 0.8793, 0.4991]]]])\n",
            "torch.Size([2, 2, 3])\n"
          ]
        }
      ]
    },
    {
      "cell_type": "code",
      "source": [
        "x = torch.tensor([2.0, 1.0, 0.1])\n",
        "print(x.shape)\n",
        "x = torch.tensor([[2.0, 1.0, 0.1]])\n",
        "print(x.shape)\n",
        "x = torch.tensor([2])\n",
        "print(x.shape)\n",
        "x = torch.tensor([[2.0, 1.0, 0.1], [2.0, 1.0, 0.1]])\n",
        "print(x.shape)"
      ],
      "metadata": {
        "id": "x0A3--CfH_9k",
        "outputId": "20bd7386-6343-49ed-ee3a-a10a4eece8d5",
        "colab": {
          "base_uri": "https://localhost:8080/"
        }
      },
      "execution_count": null,
      "outputs": [
        {
          "output_type": "stream",
          "name": "stdout",
          "text": [
            "torch.Size([3])\n",
            "torch.Size([1, 3])\n",
            "torch.Size([1])\n",
            "torch.Size([2, 3])\n"
          ]
        }
      ]
    },
    {
      "cell_type": "code",
      "source": [
        "class learningWithoutForgetting(object):\n",
        "    def __init__(self, pretrained_model_path, optimizer = 'Adam', num_epochs = 10):\n",
        "        self.num_epochs = num_epochs\n",
        "        self.device = torch.device(\"cuda\" if torch.cuda.is_available() else \"cpu\")\n",
        "        # load model\n",
        "        print(\"Loading the pre-trained model...\")\n",
        "        self.model = models.cnnModel()\n",
        "        # device = torch.device(\"cuda\" if torch.cuda.is_available() else \"cpu\")\n",
        "        self.model = self.model.to(self.device)\n",
        "        self.model.load_state_dict(copy.deepcopy(torch.load(pretrained_model_path, map_location='cpu')), strict=False)\n",
        "        # Loss function and optimizer\n",
        "        self.optimizer = torch.optim.SGD(self.model.parameters(), lr=0.01)\n",
        "\n",
        "    def evaluate_model(self, X_test, y_test):\n",
        "        \"\"\" Evaluate the model's performance on the test set X_test and y_test\n",
        "\n",
        "        Parameters:\n",
        "        ----------\n",
        "        X_test: torch tensor of MFCC\n",
        "        y_test: torch tensor of labels\n",
        "\n",
        "        Returns:\n",
        "        -------\n",
        "        accuracy: average accuracy of the model\n",
        "        accuracies: array of accuracy for each class\n",
        "        \"\"\"\n",
        "        accuracy = 0  # average accuracy of the model\n",
        "        accuracies = np.zeros(10)  # accuracy for each class\n",
        "        nb_occurences = np.zeros(10)  # to convert counts to accuracy\n",
        "\n",
        "        with torch.no_grad():\n",
        "            for i in range(len(X_test)):\n",
        "                prediction = self.model.predict(X_test[i].unsqueeze(0).to(device=self.device, dtype=torch.float))\n",
        "                label = (int)(y_test[i].to(device= self.device).item())\n",
        "                if prediction == label:\n",
        "                    accuracies[label] = accuracies[label] + 1\n",
        "                    accuracy = accuracy + 1\n",
        "                nb_occurences[label] = nb_occurences[label] + 1\n",
        "\n",
        "        accuracy = accuracy / len(X_test)\n",
        "        accuracies = np.divide(accuracies, nb_occurences)\n",
        "\n",
        "        return accuracy, accuracies\n",
        "\n",
        "    def addNovelClassesToModel(self, noNovelClasses):\n",
        "      #add new novel classes to pre-trained model\n",
        "\n",
        "      #initialize new weights with something ***\n",
        "\n",
        "\n",
        "      return \n",
        "\n",
        "      \n",
        "    def train(self, train_loader):\n",
        "        best_accuracy = 0.0\n",
        "        print(\"Started adaptation of a model !\")\n",
        "        prev_model = copy.deepcopy(self.model)\n",
        "        #todo : add novel classes to pre-trained model\n",
        "        addNovelClassesToModel(noNovelClasses = 3)\n",
        "        for epoch in range(self.num_epochs):\n",
        "          for i, (inputs, labels) in enumerate(train_loader):          \n",
        "            # input = input.unsqueeze(1).float().to(self.device)\n",
        "            # label = label.unsqueeze(0).long().to(self.device)\n",
        "            self.model.train()\n",
        "            running_loss = 0.0\n",
        "            self.optimizer.zero_grad()\n",
        "            logits = self.model(inputs) #batch_size x 14\n",
        "            loss_new = F.cross_entropy(logits, labels)\n",
        "            #calculate old loss\n",
        "            #todo: check no of in_features in liner layer, because we are passing new data here \n",
        "            old_logits = prev_model(inputs)\n",
        "            loss_old = knowledge_distillation_loss(old_logits=old_logits, \n",
        "                                                   updated_logits=logits[:, :-3]) # updates logits of size batch_size x 11 (only old logits)\n",
        "            total_loss = 1*loss_old + loss_new ##todo: what ablout regularization term?\n",
        "            total_loss.backward()\n",
        "            self.optimizer.step()\n",
        "\n",
        "    def test(self, inputs, labels):\n",
        "        self.accuracy, self.accuracies = self.evaluate_model(inputs, labels)\n",
        "        return"
      ],
      "metadata": {
        "id": "idjrdz7-No7x"
      },
      "execution_count": null,
      "outputs": []
    },
    {
      "cell_type": "code",
      "source": [
        "FILE_PATH = \"./savedmodels/best_model_state.pt\"\n",
        "batch = torch.load(new_training_samples_path)\n",
        "inputs = torch.cat(batch, dim=0)\n",
        "digits = [0, 1, 2, 3, 4, 5, 6, 7, 8, 9]\n",
        "labels = torch.tensor(digits)\n",
        "\n",
        "# test for different outputs:\n",
        "meta_dataloader = MetaAudioDataLoader(10, 0.2)\n",
        "test_inputs, test_labels = meta_dataloader.get_test_samples(5)\n",
        "# Analysis for Adam tranfer learning\n",
        "tl_adam = learningWithoutForgetting(pretrained_model_path=FILE_PATH, num_epochs=2)\n",
        "tl_adam.cl_train(inputs, labels)\n",
        "tl_adam.test(test_inputs, test_labels)\n",
        "\n",
        "print(tl_adam.accuracy)"
      ],
      "metadata": {
        "colab": {
          "base_uri": "https://localhost:8080/"
        },
        "id": "NL1zqFWKOAbn",
        "outputId": "efdd89aa-6a4d-48b9-8db4-d9cb8651b6e1"
      },
      "execution_count": null,
      "outputs": [
        {
          "output_type": "stream",
          "name": "stderr",
          "text": [
            "/content/drive/MyDrive/Colab Notebooks/git_projects/AudioClassificationWithDeepLearningAnalysis/dataset/Meta_Dataloader.py:57: UserWarning: Creating a tensor from a list of numpy.ndarrays is extremely slow. Please consider converting the list to a single numpy.ndarray with numpy.array() before converting to a tensor. (Triggered internally at  ../torch/csrc/utils/tensor_new.cpp:201.)\n",
            "  inputs = torch.tensor(inputs)\n"
          ]
        },
        {
          "output_type": "stream",
          "name": "stdout",
          "text": [
            "Loading the pre-trained model...\n",
            "Started adaptation of a model !\n",
            "0.1\n"
          ]
        }
      ]
    },
    {
      "cell_type": "code",
      "source": [
        ""
      ],
      "metadata": {
        "id": "Y2Wk_KsLgDg_"
      },
      "execution_count": null,
      "outputs": []
    }
  ]
}