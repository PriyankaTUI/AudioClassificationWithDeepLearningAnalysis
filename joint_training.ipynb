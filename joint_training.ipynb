{
  "cells": [
    {
      "cell_type": "markdown",
      "metadata": {
        "id": "view-in-github",
        "colab_type": "text"
      },
      "source": [
        "<a href=\"https://colab.research.google.com/github/PriyankaTUI/AudioClassificationWithDeepLearningAnalysis/blob/master/joint_training.ipynb\" target=\"_parent\"><img src=\"https://colab.research.google.com/assets/colab-badge.svg\" alt=\"Open In Colab\"/></a>"
      ]
    },
    {
      "cell_type": "code",
      "execution_count": 1,
      "metadata": {
        "id": "5byyaMDcpaSt",
        "outputId": "191cb1b6-3bfc-471d-c5be-d30b8d7ef4e6",
        "colab": {
          "base_uri": "https://localhost:8080/"
        }
      },
      "outputs": [
        {
          "output_type": "stream",
          "name": "stdout",
          "text": [
            "/content/AudioClassificationWithDeepLearningAnalysis\n",
            "/content/AudioClassificationWithDeepLearningAnalysis\n"
          ]
        }
      ],
      "source": [
        "!!git clone https://github.com/PriyankaTUI/AudioClassificationWithDeepLearningAnalysis.git\n",
        "%cd AudioClassificationWithDeepLearningAnalysis\n",
        "!pwd"
      ]
    },
    {
      "cell_type": "code",
      "execution_count": 2,
      "metadata": {
        "id": "9gYvRXHbpaS7"
      },
      "outputs": [],
      "source": [
        "import torch\n",
        "import models\n",
        "import copy\n",
        "import os.path\n",
        "import torch.nn.functional as F\n",
        "from torch.utils.data import DataLoader\n",
        "from utils import label_to_index, index_to_label, get_average_of_list, calculate_accuracy\n",
        "from dataset import SubsetSC\n",
        "from tqdm.notebook import tqdm\n",
        "import pandas as pd\n",
        "import matplotlib.pyplot as plt\n",
        "from datetime import datetime\n",
        "from statistics import mean \n",
        "import torch.nn as nn\n",
        "import numpy as np"
      ]
    },
    {
      "cell_type": "markdown",
      "source": [
        "Data Processing and dataloader"
      ],
      "metadata": {
        "id": "OQUHVfUR89lA"
      }
    },
    {
      "cell_type": "code",
      "execution_count": null,
      "metadata": {
        "id": "ZTXLhpu3paS8",
        "outputId": "0d309116-88e5-4dbb-a125-a77c081900e0",
        "colab": {
          "base_uri": "https://localhost:8080/",
          "height": 49,
          "referenced_widgets": [
            "7c7c065320a74385bbf551c3c2001cbf",
            "eeafa2ff61cc40b390b1b0a654d85924",
            "38f1a7e797304bf6a8d1c669317204df",
            "9aed3261157c49599139d62bb305f52b",
            "3be94a9fce4046759805555d7f396bbd",
            "7396e1a7aa074887828e85841a6f6e91",
            "e6ac4c333fba4d24aefecd8a63146f48",
            "501b8c7fbbd84caa8cdc8161b36150d8",
            "8cbc91aff97b448e84fe0dab41538721",
            "2801ed74b6134509a8363b90661997b9",
            "83ebc5113cc8487ea476a10eccc63e7b"
          ]
        }
      },
      "outputs": [
        {
          "output_type": "display_data",
          "data": {
            "text/plain": [
              "  0%|          | 0.00/2.26G [00:00<?, ?B/s]"
            ],
            "application/vnd.jupyter.widget-view+json": {
              "version_major": 2,
              "version_minor": 0,
              "model_id": "7c7c065320a74385bbf551c3c2001cbf"
            }
          },
          "metadata": {}
        }
      ],
      "source": [
        "#list of novel class targets that we'd use for further training \n",
        "random_targets = ['follow']\n",
        "# random_targets = ['follow','marvin', 'sheila', 'backward']\n",
        "\n",
        "#here we need training data in the combination of digits(i.e old) and new class\n",
        "traindata = SubsetSC(\"training\", \"novel\", novel_class_list= random_targets, dataset_length=50)\n",
        "testdata = SubsetSC(\"testing\", \"novel\", novel_class_list= random_targets, dataset_length=10)\n",
        "# traindata = SubsetSC(\"training\", \"novel\", novel_class_list= random_targets)\n",
        "# testdata = SubsetSC(\"testing\", \"novel\", novel_class_list= random_targets)\n",
        "\n",
        "#for classification labels would be combination of novel classes and old classes(digits)\n",
        "digits = ['zero','one', 'two', 'three', 'four', 'five', 'six', 'seven', 'eight', 'nine'] \n",
        "total_targets_list =  digits +random_targets\n",
        "\n",
        "def pad_sequence(batch):\n",
        "    # Make all tensor in a batch the same length by padding with zeros\n",
        "    batch = [item.t() for item in batch]\n",
        "    batch = torch.nn.utils.rnn.pad_sequence(batch, batch_first=True, padding_value=0.)\n",
        "    return batch.permute(0, 2, 1)\n",
        "\n",
        "def collate_fn(batch):\n",
        "        tensors, targets = [], []\n",
        "        for waveform, label in batch:\n",
        "                tensors += [torch.squeeze(waveform)]\n",
        "                targets += [label_to_index(total_targets_list, label)]\n",
        "                \n",
        "        tensors = torch.unsqueeze(pad_sequence(tensors), 1)\n",
        "        targets = torch.stack(targets)\n",
        "        return tensors, targets\n",
        "        \n",
        "novel_train_dataloader = DataLoader(traindata,batch_size=10, collate_fn=collate_fn, shuffle=True)\n",
        "novel_test_dataloader = DataLoader(testdata, batch_size = 10, collate_fn=collate_fn, shuffle=True)\n",
        "\n",
        "# old_testdata = SubsetSC(\"testing\", \"old\", dataset_length=100)\n",
        "old_testdata = SubsetSC(\"testing\", \"old\")\n",
        "old_test_dataloader = DataLoader(old_testdata,batch_size=20, collate_fn=collate_fn, shuffle=True)"
      ]
    },
    {
      "cell_type": "markdown",
      "source": [
        " **Model initialization**"
      ],
      "metadata": {
        "id": "CddkmQB_9FeF"
      }
    },
    {
      "cell_type": "code",
      "execution_count": null,
      "metadata": {
        "id": "hg-2u41TpaS-"
      },
      "outputs": [],
      "source": [
        "def get_convnet(convnet_type):\n",
        "    name = convnet_type.lower()\n",
        "    if name == \"vgg\":\n",
        "      FILE_PATH = \"./savedmodels/vgg_checkpoint.pth\"\n",
        "      print(\"getting VGG pre-trained model\")\n",
        "      vgg_model = models.VGGNet()\n",
        "      vgg_model.load_state_dict(copy.deepcopy(torch.load(FILE_PATH, map_location='cpu')), strict=False)\n",
        "      return vgg_model\n",
        "    elif name == \"alexnet\":\n",
        "      FILE_PATH = \"./savedmodels/checkpoint_alexnet.pth\"\n",
        "      print(\"getting AlexNet pre-trained model\")\n",
        "      alexnet_model = models.AlexNet()\n",
        "      alexnet_model.load_state_dict(copy.deepcopy(torch.load(FILE_PATH, map_location='cpu')), strict=False)\n",
        "      return alexnet_model"
      ]
    },
    {
      "cell_type": "code",
      "execution_count": null,
      "metadata": {
        "id": "yF1GC2I6paS-"
      },
      "outputs": [],
      "source": [
        "device = torch.device(\"cuda\" if torch.cuda.is_available() else \"cpu\")"
      ]
    },
    {
      "cell_type": "markdown",
      "source": [
        "**Task-specific class increment**"
      ],
      "metadata": {
        "id": "-GSy9KX_93KP"
      }
    },
    {
      "cell_type": "code",
      "execution_count": null,
      "metadata": {
        "id": "Ws9AVcsGpaTA"
      },
      "outputs": [],
      "source": [
        "init_labels = {\n",
        " 'negative' : 'Negative',\n",
        " 'negative_norm' : 'Negative_with_Normalization',\n",
        " 'random' : 'Random',\n",
        " 'random_norm' : 'Random_with_Normalization',\n",
        " 'xavier_uniform' : 'Xavier_Uniform',\n",
        " 'xavier_uniform_norm' : 'Xavier_Uniform_with_Normalization',\n",
        " 'xavier_normal' : 'Xavier_Normal',\n",
        " 'xavier_normal_norm' : 'Xavier_Normal_with_Normalization',\n",
        " 'kaiming_uniform' : 'Kaiming_Uniform',\n",
        " 'kaiming_uniform_norm' : 'Kaiming_Uniform_with_Normalization',\n",
        " 'kaiming_normal' : 'Kaiming_Normal',\n",
        " 'kaiming_normal_norm' : 'Kaiming_Normal_with_Normalization'\n",
        "}\n",
        "\n",
        "def _normalization(old_weights,  incremental_model_linear_weights):\n",
        "  # L2 regularization of weights\n",
        "  old_weights_norm = torch.norm(old_weights, p=2, dim=1)\n",
        "  incremental_model_linear_weights_norm = torch.norm(incremental_model_linear_weights, p=2, dim=1)\n",
        "  old_weights_mean = torch.mean(old_weights_norm)\n",
        "  incremental_model_linear_weights_mean = torch.mean(incremental_model_linear_weights_norm)\n",
        "  gamma = old_weights_mean+incremental_model_linear_weights_mean\n",
        "  old_weights = old_weights/gamma\n",
        "  incremental_model_linear_weights = incremental_model_linear_weights/gamma\n",
        "\n",
        "  return old_weights, incremental_model_linear_weights\n",
        "  \n",
        "def _incremental_model(model, init_method = init_labels['random'], is_normalize = False, _no_out_features:int = 11, _no_novel_class: int = 1):\n",
        "  in_features = model.linear.in_features\n",
        "  out_features = model.linear.out_features\n",
        "  incremental_model_linear = nn.Linear(in_features=in_features, out_features=_no_novel_class)\n",
        "  # incremental_model_linear.to(device)\n",
        "  # model.to(device)\n",
        "  \n",
        "  #Initialize weights \n",
        "  if init_method == init_labels['negative']:\n",
        "    print(f'Initialization: {init_method}')\n",
        "    nn.init.constant_(incremental_model_linear.weight, -1)\n",
        "  elif init_method == init_labels['xavier_uniform']:\n",
        "    print(f'Initialization: {init_method}')\n",
        "    nn.init.xavier_uniform_(incremental_model_linear.weight)\n",
        "  elif init_method == init_labels['xavier_normal']:\n",
        "    print(f'Initialization: {init_method}')\n",
        "    nn.init.xavier_normal_(incremental_model_linear.weight)\n",
        "  elif init_method == init_labels['kaiming_uniform']:\n",
        "    print(f'Initialization: {init_method}')\n",
        "    nn.init.kaiming_uniform_(incremental_model_linear.weight, nonlinearity='linear')\n",
        "  elif init_method == init_labels['kaiming_normal']:\n",
        "    print(f'Initialization: {init_method}')\n",
        "    nn.init.kaiming_normal_(incremental_model_linear.weight)\n",
        "\n",
        "  nn.init.constant_(incremental_model_linear.bias, 0)\n",
        "\n",
        "  old_weights = copy.deepcopy(model.linear.weight.data)\n",
        "  old_bias = copy.deepcopy(model.linear.bias.data)\n",
        "  incremental_model_linear_weights = copy.deepcopy(incremental_model_linear.weight.data)\n",
        "  incremental_model_linear_bias = copy.deepcopy(incremental_model_linear.bias.data)\n",
        "  # model.linear = nn.Linear(in_features=in_features, out_features=len(total_targets_list))\n",
        "  model.linear = nn.Linear(in_features=in_features, out_features=_no_out_features)\n",
        "\n",
        "  if is_normalize:\n",
        "    #if L2 normalization is used\n",
        "    print('with L2 normalization')\n",
        "    old_weights, incremental_model_linear_weights = _normalization(old_weights,  incremental_model_linear_weights\n",
        "                                                                   )\n",
        "  new_weights = torch.cat([old_weights, incremental_model_linear_weights], dim=0)\n",
        "  new_bias = torch.cat([old_bias, incremental_model_linear_bias] ,dim=0)\n",
        "  model.linear.weight.data = new_weights\n",
        "  model.linear.bias.data = new_bias\n",
        "\n",
        "  return model"
      ]
    },
    {
      "cell_type": "markdown",
      "source": [
        "**Training Method**"
      ],
      "metadata": {
        "id": "H7GsF8wm9-Om"
      }
    },
    {
      "cell_type": "code",
      "execution_count": null,
      "metadata": {
        "id": "aPReXTiLpaTC"
      },
      "outputs": [],
      "source": [
        "def train(train_dataloader, \n",
        "          test_dataloader, \n",
        "          old_test_dataloader, \n",
        "          optimizer,\n",
        "          scheduler, \n",
        "          model, \n",
        "          num_epochs, \n",
        "          log = []):\n",
        "  \n",
        "  #Input parameters    : \n",
        "  #train_dataloader    : training dataloader which is the combination of old and novel tasks\n",
        "  #test_dataloader     : novel validation dataloader to evaluate the performance of novel tasks only\n",
        "  #old_test_dataloader : Old tasks dataloader to evaluate the performance of old tasks only\n",
        "  #optimizer           : given optimizer of PyTorch\n",
        "  #Schduler            : to manage learning rate of optimizer\n",
        "  #model               : pre-trained and then extended for novel task network\n",
        "  #num_epochs          : number of epochs\n",
        "  #log                 : to store results of the algorithm\n",
        "  \n",
        "  for epoch in range(num_epochs):\n",
        "    running_loss = []\n",
        "    running_accuracy = []\n",
        "    model.to(device)\n",
        "    model.train()\n",
        "    for i, (inputs, labels) in enumerate(train_dataloader):\n",
        "      inputs, labels = inputs.to(device), labels.to(device)\n",
        "      logits = model(inputs) #batch_size x len(old + novel)\n",
        "      loss = F.cross_entropy(logits, labels)\n",
        "      optimizer.zero_grad()\n",
        "      loss.backward() \n",
        "      optimizer.step()\n",
        "      scheduler.step()\n",
        "      running_loss.append(loss.item())\n",
        "      _, pred = logits.max(1)\n",
        "      acc = (pred == labels).sum().item() / pred.size(0)\n",
        "      running_accuracy.append(acc)\n",
        "    train_loss = mean(running_loss)\n",
        "    train_accuracy = mean(running_accuracy)\n",
        "    test_accuracy , test_loss = calculate_accuracy(dataloader=test_dataloader, model=model)\n",
        "    old_class_accuracy, old_class_loss = calculate_accuracy(dataloader=old_test_dataloader, model=model)\n",
        "    print(f\"Epoch [{epoch}]... train_loss: {train_loss}, train_acc: {train_accuracy}\")\n",
        "    print(f\"\\t     val_loss: {test_loss}, val_acc: {test_accuracy}\")\n",
        "    print(f\"\\t     old_loss: {old_class_loss}, old_acc: {old_class_accuracy}\")\n",
        "    log.append({\n",
        "    'epoch': epoch,\n",
        "    'train_loss': train_loss,\n",
        "    'train_accuracy': train_accuracy,\n",
        "    'val_loss': test_loss,\n",
        "    'val_accuracy': test_accuracy,\n",
        "    'old_class_loss' : old_class_loss,\n",
        "    'old_class_accuracy': old_class_accuracy\n",
        "    })\n",
        "  return"
      ]
    },
    {
      "cell_type": "markdown",
      "source": [
        "# Single task increment analysis\n",
        "\n",
        "In this section, we observe  joint training for single task increment"
      ],
      "metadata": {
        "id": "Qaz-Ipiq-Dnf"
      }
    },
    {
      "cell_type": "code",
      "execution_count": null,
      "metadata": {
        "id": "T9stPIEspaTD"
      },
      "outputs": [],
      "source": [
        "#combine old and novel classes for joint training\n",
        "old_traindata = SubsetSC(\"training\", \"old\", dataset_length=30)\n",
        "traindata._walker += old_traindata._walker\n",
        "joint_train_dataloader = DataLoader(traindata,batch_size=20, collate_fn=collate_fn, shuffle=True)"
      ]
    },
    {
      "cell_type": "code",
      "source": [
        "#to calculate the percentatge of old data is again used for training the joint training algorithm\n",
        "total_old_traindata = SubsetSC(\"training\", \"old\")\n",
        "print(f\"{round((len(old_traindata)/len(total_old_traindata))*100, 2)} % old task data is reused in joint training\")"
      ],
      "metadata": {
        "id": "Jb2al3oQve06",
        "outputId": "a8786db8-1fe5-4e0a-8ff1-374bd85fca02",
        "colab": {
          "base_uri": "https://localhost:8080/"
        }
      },
      "execution_count": null,
      "outputs": [
        {
          "output_type": "stream",
          "name": "stdout",
          "text": [
            "0.08 % old task data is reused in joint training\n"
          ]
        }
      ]
    },
    {
      "cell_type": "code",
      "execution_count": null,
      "metadata": {
        "id": "CkEzE7TVpaTE",
        "outputId": "9cc20121-001f-4b27-aaf0-21bba51ad367",
        "colab": {
          "base_uri": "https://localhost:8080/"
        }
      },
      "outputs": [
        {
          "output_type": "stream",
          "name": "stdout",
          "text": [
            "Loading the pre-trained model...\n",
            "getting VGG pre-trained model\n",
            "Initialization: Xavier_Uniform\n",
            "with L2 normalization\n"
          ]
        }
      ],
      "source": [
        "learning_rate = 0.0015\n",
        "weight_decay = 1e-2\n",
        "num_epochs = 10\n",
        "log = []\n",
        "_network = 'vgg'\n",
        "\n",
        "# #Model \n",
        "device = torch.device(\"cuda\" if torch.cuda.is_available() else \"cpu\")\n",
        "# load model\n",
        "print(\"Loading the pre-trained model...\")\n",
        "model = get_convnet(\"vgg\")\n",
        "\n",
        "#save old accuracy before increment\n",
        "old_class_accuracy, old_class_loss = calculate_accuracy(dataloader=old_test_dataloader, model=model)\n",
        "log.append({\n",
        "  'epoch': -1,\n",
        "  'train_loss': np.nan,\n",
        "  'train_accuracy': 0,\n",
        "  'val_loss': np.nan,\n",
        "  'val_accuracy': 0,\n",
        "  'old_class_loss' : old_class_loss,\n",
        "  'old_class_accuracy': old_class_accuracy\n",
        "  })\n",
        "#save prev model before increment\n",
        "prev_model = copy.deepcopy(model)\n",
        "#freeze previous model\n",
        "for param in prev_model.parameters():\n",
        "  param.requires_grad = False\n",
        "\n",
        "# Add weights at the last linear layer for novel class \n",
        "# model = _incremental_model(model, init_labels['random'], is_normalize = True)\n",
        "# model = _incremental_model(model, init_labels['negative'], is_normalize = True)\n",
        "model = _incremental_model(model, init_labels['xavier_uniform'], is_normalize = True)\n",
        "# model = _incremental_model(model, init_labels['kaiming_uniform'], is_normalize = True)\n",
        "\n",
        "optimizer = torch.optim.Adam(model.parameters(), lr=learning_rate, weight_decay=weight_decay)\n",
        "scheduler = torch.optim.lr_scheduler.MultiStepLR(optimizer, milestones=[3,5,7,9], gamma=0.1)"
      ]
    },
    {
      "cell_type": "code",
      "execution_count": null,
      "metadata": {
        "id": "mqzNU9G3paTF",
        "outputId": "7bc70c52-e9c6-488f-c8d2-62e09c5cb351",
        "colab": {
          "base_uri": "https://localhost:8080/"
        }
      },
      "outputs": [
        {
          "output_type": "stream",
          "name": "stdout",
          "text": [
            "Epoch [0]... train_loss: 5.6798065304756165, train_acc: 0.575\n",
            "\t     val_loss: 1.6605619192123413, val_acc: 0.55\n",
            "\t     old_loss: 0.5642658472061157, old_acc: 0.7223994452149792\n",
            "Epoch [1]... train_loss: 4.093268573284149, train_acc: 0.625\n",
            "\t     val_loss: 1.6166282892227173, val_acc: 0.55\n",
            "\t     old_loss: 3.2163078784942627, old_acc: 0.7235783633841887\n",
            "Epoch [2]... train_loss: 3.7021121978759766, train_acc: 0.5875\n",
            "\t     val_loss: 1.7609388828277588, val_acc: 0.55\n",
            "\t     old_loss: 0.6663392186164856, old_acc: 0.723127600554785\n",
            "Epoch [3]... train_loss: 2.9802414178848267, train_acc: 0.5625\n",
            "\t     val_loss: 1.4723503589630127, val_acc: 0.55\n",
            "\t     old_loss: 0.988598644733429, old_acc: 0.723127600554785\n",
            "Epoch [4]... train_loss: 2.7056131958961487, train_acc: 0.625\n",
            "\t     val_loss: 1.1736862659454346, val_acc: 0.55\n",
            "\t     old_loss: 0.982419490814209, old_acc: 0.7226768377253814\n",
            "Epoch [5]... train_loss: 2.7112030386924744, train_acc: 0.5625\n",
            "\t     val_loss: 1.7413743734359741, val_acc: 0.55\n",
            "\t     old_loss: 1.1977512836456299, old_acc: 0.7226768377253814\n",
            "Epoch [6]... train_loss: 3.174436569213867, train_acc: 0.6375\n",
            "\t     val_loss: 1.409332513809204, val_acc: 0.55\n",
            "\t     old_loss: 0.9018574953079224, old_acc: 0.723127600554785\n",
            "Epoch [7]... train_loss: 3.37367045879364, train_acc: 0.6625\n",
            "\t     val_loss: 1.522698163986206, val_acc: 0.55\n",
            "\t     old_loss: 1.2957513332366943, old_acc: 0.7222260748959778\n",
            "Epoch [8]... train_loss: 3.1465170681476593, train_acc: 0.625\n",
            "\t     val_loss: 1.985168695449829, val_acc: 0.55\n",
            "\t     old_loss: 0.6735506653785706, old_acc: 0.723127600554785\n",
            "Epoch [9]... train_loss: 3.740351617336273, train_acc: 0.6125\n",
            "\t     val_loss: 1.6902799606323242, val_acc: 0.55\n",
            "\t     old_loss: 1.4218965768814087, old_acc: 0.7226768377253814\n"
          ]
        }
      ],
      "source": [
        "train(train_dataloader= joint_train_dataloader, \n",
        "      test_dataloader= novel_test_dataloader, \n",
        "      old_test_dataloader= old_test_dataloader,\n",
        "      optimizer= optimizer, \n",
        "      model= model, \n",
        "      num_epochs= num_epochs, \n",
        "      scheduler= scheduler, \n",
        "      log = log)"
      ]
    },
    {
      "cell_type": "code",
      "execution_count": null,
      "metadata": {
        "id": "7e0h59yFpaTG"
      },
      "outputs": [],
      "source": [
        "df_log = pd.DataFrame(log)"
      ]
    },
    {
      "cell_type": "code",
      "execution_count": null,
      "metadata": {
        "id": "iaaNOhLbpaTH",
        "outputId": "aeb4d643-6889-46f1-c3b9-997a55ce56d5",
        "colab": {
          "base_uri": "https://localhost:8080/"
        }
      },
      "outputs": [
        {
          "output_type": "stream",
          "name": "stdout",
          "text": [
            "Saved training data to file results_joint_training_Xavier_Uniform_with_Normalization_2022-12-06_13.40.40.547921\n"
          ]
        }
      ],
      "source": [
        "# df_log = pd.DataFrame(log)\n",
        "filename = str(datetime.now().date()) + '_' + str(datetime.now().time()).replace(':', '.')\n",
        "# path = \"results_joint_training_\" + str(init_labels['random_norm']) + '_' + filename\n",
        "# path = \"results_joint_training_\" + str(init_labels['random']) + '_' + filename\n",
        "# path = \"results_joint_training_\" + str(init_labels['negative']) + '_' + filename\n",
        "# path = \"results_joint_training_\" + str(init_labels['negative_norm']) + '_' + filename\n",
        "# path = \"results_joint_training_\" + str(init_labels['xavier_uniform']) + '_' + filename\n",
        "path = \"results_joint_training_\" + str(init_labels['xavier_uniform_norm']) + '_' + filename\n",
        "# path = \"results_joint_training_\" + str(init_labels['kaiming_uniform']) + '_' + filename\n",
        "# path = \"results_joint_training_\" + str(init_labels['kaiming_uniform_norm']) + '_' + filename\n",
        "\n",
        "df_log.to_pickle(path)\n",
        "print(f\"Saved training data to file {path}\")"
      ]
    },
    {
      "cell_type": "code",
      "execution_count": null,
      "metadata": {
        "id": "QN3EgDH4paTI",
        "outputId": "88630568-7987-45c3-e294-e205fc379d36",
        "colab": {
          "base_uri": "https://localhost:8080/",
          "height": 461
        }
      },
      "outputs": [
        {
          "output_type": "stream",
          "name": "stderr",
          "text": [
            "WARNING:matplotlib.backends.backend_ps:The PostScript backend does not support transparency; partially transparent artists will be rendered opaque.\n",
            "WARNING:matplotlib.backends.backend_ps:The PostScript backend does not support transparency; partially transparent artists will be rendered opaque.\n"
          ]
        },
        {
          "output_type": "display_data",
          "data": {
            "text/plain": [
              "<Figure size 720x432 with 1 Axes>"
            ],
            "image/png": "[encoded data removed]"
          },
          "metadata": {
            "needs_background": "light"
          }
        }
      ],
      "source": [
        "\n",
        "# plt.rcParams[\"figure.figsize\"] = [10, 10]\n",
        "# plt.rc('text', usetex=False)\n",
        "fig = plt.figure(figsize = (10,6))\n",
        "title_str = 'Accuracy comparision for Joint Training with ' + init_labels['xavier_uniform'] +  ' initialization and Normalization'\n",
        "plt.plot(df_log[['train_accuracy']], label = 'Novel train', marker = '.')\n",
        "plt.plot(df_log[['val_accuracy']], label = 'Novel Val', marker = '.')\n",
        "plt.plot(df_log[['old_class_accuracy']], label= 'Old Class', marker = '.')\n",
        "plt.legend()\n",
        "plt.title('Accuracy comparision for Joint Training with ' + init_labels['xavier_uniform'] +  ' initialization and Normalization',fontsize=15, weight = 'bold')\n",
        "# plt.figtext(0, 0.9, 'Accuracy', fontsize=20, weight = 'extra bold',  ha ='left')\n",
        "# plt.figtext(0.14, 0.9, ' comparision for Joint Training w.r.t ' + init_labels['random'] +  ' initialization and Normalization',fontsize=15, weight = 'bold')\n",
        "plt.yticks(np.arange(0,1.1,0.1), weight = 'bold')\n",
        "plt.xticks(weight = 'bold')\n",
        "plt.xlabel('Epoch', weight = 'bold')\n",
        "plt.ylabel('Accuracy', weight = 'bold')\n",
        "\n",
        "fig.savefig(title_str + \".png\", format=\"png\", dpi=600, bbox_inches=\"tight\")\n",
        "fig.savefig(title_str + \".eps\", format=\"eps\", dpi=1200, bbox_inches=\"tight\", transparent=True)\n",
        "fig.savefig(title_str + \".pdf\", format=\"pdf\", dpi=1200, bbox_inches=\"tight\", transparent=True)"
      ]
    },
    {
      "cell_type": "markdown",
      "source": [
        "Try for Random method:"
      ],
      "metadata": {
        "id": "pVKGPePsXCpd"
      }
    },
    {
      "cell_type": "code",
      "source": [
        "learning_rate = 0.002\n",
        "weight_decay = 1e-2\n",
        "num_epochs = 10\n",
        "log = []\n",
        "_network = 'vgg'\n",
        "\n",
        "# #Model \n",
        "device = torch.device(\"cuda\" if torch.cuda.is_available() else \"cpu\")\n",
        "# load model\n",
        "print(\"Loading the pre-trained model...\")\n",
        "model = get_convnet(\"vgg\")\n",
        "\n",
        "#save old accuracy before increment\n",
        "old_class_accuracy, old_class_loss = calculate_accuracy(dataloader=old_test_dataloader, model=model)\n",
        "log.append({\n",
        "  'epoch': -1,\n",
        "  'train_loss': np.nan,\n",
        "  'train_accuracy': 0,\n",
        "  'val_loss': np.nan,\n",
        "  'val_accuracy': 0,\n",
        "  'old_class_loss' : old_class_loss,\n",
        "  'old_class_accuracy': old_class_accuracy\n",
        "  })\n",
        "#save prev model before increment\n",
        "prev_model = copy.deepcopy(model)\n",
        "#freeze previous model\n",
        "for param in prev_model.parameters():\n",
        "  param.requires_grad = False\n",
        "\n",
        "# Add weights at the last linear layer for novel class \n",
        "model = _incremental_model(model, init_labels['random'], is_normalize = True)\n",
        "\n",
        "optimizer = torch.optim.Adam(model.parameters(), lr=learning_rate, weight_decay=weight_decay)\n",
        "scheduler = torch.optim.lr_scheduler.MultiStepLR(optimizer, milestones=[3,5,7,9], gamma=0.1)"
      ],
      "metadata": {
        "id": "UVNxmiQUXBzm",
        "outputId": "2d19a773-f18d-4525-fcca-10dca354c001",
        "colab": {
          "base_uri": "https://localhost:8080/"
        }
      },
      "execution_count": null,
      "outputs": [
        {
          "output_type": "stream",
          "name": "stdout",
          "text": [
            "Loading the pre-trained model...\n",
            "getting VGG pre-trained model\n",
            "with L2 normalization\n"
          ]
        }
      ]
    },
    {
      "cell_type": "code",
      "source": [
        "train(train_dataloader= joint_train_dataloader, \n",
        "      test_dataloader= novel_test_dataloader, \n",
        "      old_test_dataloader= old_test_dataloader,\n",
        "      optimizer= optimizer, \n",
        "      model= model, \n",
        "      num_epochs= num_epochs, \n",
        "      scheduler= scheduler, \n",
        "      log = log)"
      ],
      "metadata": {
        "id": "znxZDQ9iXGJy",
        "outputId": "0f7cd079-df5d-4d00-b726-3ca16d9d19f8",
        "colab": {
          "base_uri": "https://localhost:8080/"
        }
      },
      "execution_count": null,
      "outputs": [
        {
          "output_type": "stream",
          "name": "stdout",
          "text": [
            "Epoch [0]... train_loss: 5.209129095077515, train_acc: 0.5875\n",
            "\t     val_loss: 1.3885670900344849, val_acc: 0.6\n",
            "\t     old_loss: 0.5456923246383667, old_acc: 0.7368932038834951\n",
            "Epoch [1]... train_loss: 3.6325663030147552, train_acc: 0.6125\n",
            "\t     val_loss: 1.3817193508148193, val_acc: 0.6\n",
            "\t     old_loss: 0.376248836517334, old_acc: 0.7359223300970874\n",
            "Epoch [2]... train_loss: 3.160650312900543, train_acc: 0.6375\n",
            "\t     val_loss: 1.3816875219345093, val_acc: 0.6\n",
            "\t     old_loss: 0.6585660576820374, old_acc: 0.7350208044382802\n",
            "Epoch [3]... train_loss: 3.0753936767578125, train_acc: 0.6125\n",
            "\t     val_loss: 1.3816899061203003, val_acc: 0.6\n",
            "\t     old_loss: 1.2676069736480713, old_acc: 0.7341192787794729\n",
            "Epoch [4]... train_loss: 2.6383461356163025, train_acc: 0.6\n",
            "\t     val_loss: 1.3816988468170166, val_acc: 0.6\n",
            "\t     old_loss: 1.2693928480148315, old_acc: 0.7345700416088765\n",
            "Epoch [5]... train_loss: 4.303890228271484, train_acc: 0.6\n",
            "\t     val_loss: 1.3817036151885986, val_acc: 0.6\n",
            "\t     old_loss: 1.0593516826629639, old_acc: 0.7350208044382802\n",
            "Epoch [6]... train_loss: 3.0014543533325195, train_acc: 0.575\n",
            "\t     val_loss: 1.3817181587219238, val_acc: 0.6\n",
            "\t     old_loss: 0.762822687625885, old_acc: 0.7345700416088765\n",
            "Epoch [7]... train_loss: 2.6521966457366943, train_acc: 0.6125\n",
            "\t     val_loss: 1.3817312717437744, val_acc: 0.6\n",
            "\t     old_loss: 0.5860998034477234, old_acc: 0.7357142857142858\n",
            "Epoch [8]... train_loss: 3.8408164978027344, train_acc: 0.5750000000000001\n",
            "\t     val_loss: 1.3817517757415771, val_acc: 0.6\n",
            "\t     old_loss: 1.0446418523788452, old_acc: 0.7348127600554785\n",
            "Epoch [9]... train_loss: 2.928069591522217, train_acc: 0.6\n",
            "\t     val_loss: 1.381770133972168, val_acc: 0.6\n",
            "\t     old_loss: 0.5392365455627441, old_acc: 0.7357142857142858\n"
          ]
        }
      ]
    },
    {
      "cell_type": "code",
      "source": [
        "df_log = pd.DataFrame(log)\n",
        "filename = str(datetime.now().date()) + '_' + str(datetime.now().time()).replace(':', '.')\n",
        "path = \"results_joint_training_\" + str(init_labels['random_norm']) + '_' + filename\n",
        "\n",
        "df_log.to_pickle(path)\n",
        "print(f\"Saved training data to file {path}\")"
      ],
      "metadata": {
        "id": "C8BZRY5_XTok",
        "outputId": "ba7392cc-0a3a-44ce-f4dc-d8090adb8765",
        "colab": {
          "base_uri": "https://localhost:8080/"
        }
      },
      "execution_count": null,
      "outputs": [
        {
          "output_type": "stream",
          "name": "stdout",
          "text": [
            "Saved training data to file results_joint_training_Random_with_Normalization_2022-12-13_17.15.46.906091\n"
          ]
        }
      ]
    },
    {
      "cell_type": "code",
      "source": [
        "# plt.rcParams[\"figure.figsize\"] = [10, 10]\n",
        "# plt.rc('text', usetex=False)\n",
        "fig = plt.figure(figsize = (10,6))\n",
        "title_str = 'Accuracy comparision for Joint Training with ' + init_labels['random'] +  ' initialization and Normalization'\n",
        "plt.plot(df_log[['train_accuracy']], label = 'Novel train', marker = '.')\n",
        "plt.plot(df_log[['val_accuracy']], label = 'Novel Val', marker = '.')\n",
        "plt.plot(df_log[['old_class_accuracy']], label= 'Old Class', marker = '.')\n",
        "plt.legend()\n",
        "plt.title('Accuracy comparision for Joint Training with ' + init_labels['random'] +  ' initialization and Normalization',fontsize=15, weight = 'bold')\n",
        "# plt.figtext(0, 0.9, 'Accuracy', fontsize=20, weight = 'extra bold',  ha ='left')\n",
        "# plt.figtext(0.14, 0.9, ' comparision for Joint Training w.r.t ' + init_labels['random'] +  ' initialization and Normalization',fontsize=15, weight = 'bold')\n",
        "plt.yticks(np.arange(0,1.1,0.1), weight = 'bold')\n",
        "plt.xticks(weight = 'bold')\n",
        "plt.xlabel('Epoch', weight = 'bold')\n",
        "plt.ylabel('Accuracy', weight = 'bold')\n",
        "\n",
        "fig.savefig(title_str + \".png\", format=\"png\", dpi=600, bbox_inches=\"tight\")\n",
        "fig.savefig(title_str + \".eps\", format=\"eps\", dpi=1200, bbox_inches=\"tight\", transparent=True)\n",
        "fig.savefig(title_str + \".pdf\", format=\"pdf\", dpi=1200, bbox_inches=\"tight\", transparent=True)"
      ],
      "metadata": {
        "id": "pMRz16_-Xc7l",
        "outputId": "e62f6609-babb-4f48-fb70-c0f664b235e0",
        "colab": {
          "base_uri": "https://localhost:8080/",
          "height": 461
        }
      },
      "execution_count": null,
      "outputs": [
        {
          "output_type": "stream",
          "name": "stderr",
          "text": [
            "WARNING:matplotlib.backends.backend_ps:The PostScript backend does not support transparency; partially transparent artists will be rendered opaque.\n",
            "WARNING:matplotlib.backends.backend_ps:The PostScript backend does not support transparency; partially transparent artists will be rendered opaque.\n"
          ]
        },
        {
          "output_type": "display_data",
          "data": {
            "text/plain": [
              "<Figure size 720x432 with 1 Axes>"
            ],
            "image/png": "[encoded data removed]"
          },
          "metadata": {
            "needs_background": "light"
          }
        }
      ]
    },
    {
      "cell_type": "markdown",
      "source": [
        "The output results can fluctuate because they are mostly dependent on the input data and the network's initial expansion."
      ],
      "metadata": {
        "id": "hm7JidxlfTdF"
      }
    },
    {
      "cell_type": "markdown",
      "source": [
        "# Multitask joint training\n",
        "\n",
        "\n",
        "We compare multitask learning of joint training with the LwF algorithm and the baseline training model in this section. The experimentation setup is similar to that of other algorithms for fair comparison."
      ],
      "metadata": {
        "id": "xouyiFjd4-o6"
      }
    },
    {
      "cell_type": "code",
      "source": [
        "learning_rate = 0.001\n",
        "# T = 2\n",
        "# alpha = 1\n",
        "weight_decay = 1e-3\n",
        "num_epochs = 3\n",
        "log = []\n",
        "_network = 'vgg'\n",
        "\n",
        "# #Model \n",
        "device = torch.device(\"cuda\" if torch.cuda.is_available() else \"cpu\")\n",
        "# load model\n",
        "print(\"Loading the pre-trained model...\")\n",
        "model = get_convnet(\"vgg\")\n",
        "\n",
        "#save old accuracy before increment\n",
        "old_class_accuracy, old_class_loss = calculate_accuracy(dataloader=old_test_dataloader, model=model)\n",
        "log.append({\n",
        "  'epoch': -1,\n",
        "  'train_loss': np.nan,\n",
        "  'train_accuracy': 0,\n",
        "  'val_loss': np.nan,\n",
        "  'val_accuracy': 0,\n",
        "  'old_class_loss' : old_class_loss,\n",
        "  'old_class_accuracy': old_class_accuracy\n",
        "  })"
      ],
      "metadata": {
        "id": "vIM7yxQZ5cyb",
        "outputId": "518287d5-9955-43ab-d92a-55f76f29c258",
        "colab": {
          "base_uri": "https://localhost:8080/"
        }
      },
      "execution_count": null,
      "outputs": [
        {
          "output_type": "stream",
          "name": "stdout",
          "text": [
            "Loading the pre-trained model...\n",
            "getting VGG pre-trained model\n"
          ]
        }
      ]
    },
    {
      "cell_type": "code",
      "execution_count": null,
      "metadata": {
        "id": "M8ZW06o5paTO",
        "outputId": "f8dd9e21-a6ce-4307-f87f-9669af9bb35f",
        "colab": {
          "base_uri": "https://localhost:8080/"
        }
      },
      "outputs": [
        {
          "output_type": "stream",
          "name": "stdout",
          "text": [
            "Initialization: Xavier_Uniform\n",
            "with L2 normalization\n",
            "Training for follow\n",
            "Epoch [0]... train_loss: 7.162916946411133, train_acc: 0.22666666666666666\n",
            "\t     val_loss: 2.140068531036377, val_acc: 0.35\n",
            "\t     old_loss: 0.40307530760765076, old_acc: 0.7871705963938974\n",
            "Epoch [1]... train_loss: 2.8237087885538736, train_acc: 0.48666666666666664\n",
            "\t     val_loss: 2.211510181427002, val_acc: 0.3\n",
            "\t     old_loss: 0.7536775469779968, old_acc: 0.7944868238557559\n",
            "Epoch [2]... train_loss: 2.7566830635070803, train_acc: 0.42\n",
            "\t     val_loss: 2.360844850540161, val_acc: 0.30000000000000004\n",
            "\t     old_loss: 1.1762679815292358, old_acc: 0.810748959778086\n",
            "Training for marvin\n",
            "Epoch [0]... train_loss: 3.1004374980926515, train_acc: 0.28\n",
            "\t     val_loss: 2.694901466369629, val_acc: 0.0\n",
            "\t     old_loss: 0.4373938739299774, old_acc: 0.8546463245492372\n",
            "Epoch [1]... train_loss: 2.274901008605957, train_acc: 0.41333333333333333\n",
            "\t     val_loss: 1.6310882568359375, val_acc: 0.8500000000000001\n",
            "\t     old_loss: 0.767154335975647, old_acc: 0.8126907073509015\n",
            "Epoch [2]... train_loss: 2.5780516386032106, train_acc: 0.48\n",
            "\t     val_loss: 1.3590792417526245, val_acc: 1.0\n",
            "\t     old_loss: 0.7180358171463013, old_acc: 0.7660887656033287\n",
            "Training for visual\n",
            "Epoch [0]... train_loss: 3.7980277856191, train_acc: 0.19333333333333333\n",
            "\t     val_loss: 2.6790835857391357, val_acc: 0.0\n",
            "\t     old_loss: 0.6069009900093079, old_acc: 0.8257628294036061\n",
            "Epoch [1]... train_loss: 2.288605562845866, train_acc: 0.30666666666666664\n",
            "\t     val_loss: 1.9732105731964111, val_acc: 0.85\n",
            "\t     old_loss: 0.4639635980129242, old_acc: 0.7871359223300971\n",
            "Epoch [2]... train_loss: 2.1177056868871054, train_acc: 0.48\n",
            "\t     val_loss: 2.1543424129486084, val_acc: 0.8\n",
            "\t     old_loss: 0.11890669912099838, old_acc: 0.8228155339805825\n",
            "Training for house\n",
            "Epoch [0]... train_loss: 3.024711020787557, train_acc: 0.23333333333333334\n",
            "\t     val_loss: 2.674900531768799, val_acc: 0.05\n",
            "\t     old_loss: 0.9707387685775757, old_acc: 0.8507975034674063\n",
            "Epoch [1]... train_loss: 2.6661753098169965, train_acc: 0.31333333333333335\n",
            "\t     val_loss: 2.3791744709014893, val_acc: 0.5\n",
            "\t     old_loss: 0.8570806384086609, old_acc: 0.7864424410540916\n",
            "Epoch [2]... train_loss: 2.1963207085927325, train_acc: 0.43333333333333335\n",
            "\t     val_loss: 1.9044204950332642, val_acc: 0.95\n",
            "\t     old_loss: 0.8128333687782288, old_acc: 0.7855062413314841\n",
            "Training for happy\n",
            "Epoch [0]... train_loss: 3.8756152153015138, train_acc: 0.2\n",
            "\t     val_loss: 2.358947515487671, val_acc: 0.75\n",
            "\t     old_loss: 0.4501703083515167, old_acc: 0.7602635228848821\n",
            "Epoch [1]... train_loss: 2.240739170710246, train_acc: 0.44666666666666666\n",
            "\t     val_loss: 1.6636054515838623, val_acc: 0.8\n",
            "\t     old_loss: 0.5835902094841003, old_acc: 0.7747919556171984\n",
            "Epoch [2]... train_loss: 2.4038281162579853, train_acc: 0.44\n",
            "\t     val_loss: 1.5173523426055908, val_acc: 0.8\n",
            "\t     old_loss: 0.4973873794078827, old_acc: 0.780374479889043\n"
          ]
        }
      ],
      "source": [
        "multiclass_learning = [\"follow\", \"marvin\", \"visual\", \"house\", \"happy\"]\n",
        "digits = ['zero','one', 'two', 'three', 'four', 'five', 'six', 'seven', 'eight', 'nine'] \n",
        "new_targets_list = digits\n",
        "\n",
        "_temp = digits + multiclass_learning\n",
        "old_traindata = SubsetSC(\"training\", \"old\", dataset_length=50)\n",
        "\n",
        "#save prev model before increment\n",
        "prev_model = copy.deepcopy(model)\n",
        "#freeze previous model\n",
        "for param in prev_model.parameters():\n",
        "  param.requires_grad = False\n",
        "\n",
        "#increse last nodes in multiclass\n",
        "# model = _incremental_model(model, is_normalize = True, _no_out_features = 15, _no_novel_class=len(multiclass_learning))\n",
        "model = _incremental_model(model, init_method=init_labels['xavier_uniform'], is_normalize = True, _no_out_features = 15, _no_novel_class=len(multiclass_learning))\n",
        "\n",
        "# optimizer = torch.optim.SGD(model.parameters(), lr=learning_rate, weight_decay=weight_decay, momentum=0.9)\n",
        "optimizer = torch.optim.Adam(model.parameters(), lr=learning_rate, weight_decay=weight_decay)\n",
        "scheduler = torch.optim.lr_scheduler.MultiStepLR(optimizer, milestones=[200], gamma=0.1) #dont want scheduler here\n",
        "\n",
        "old_traindata = SubsetSC(\"training\", \"old\", dataset_length=100)\n",
        "#for loop to learn novel tasks one by one and record old tasks performance during training.\n",
        "for _class_name in multiclass_learning:\n",
        "  print(f\"Training for {_class_name}\")\n",
        "  traindata = SubsetSC(\"training\", \"novel\", novel_class_list= [_class_name], dataset_length=50)\n",
        "  testdata = SubsetSC(\"testing\", \"novel\", novel_class_list= [_class_name], dataset_length=20)\n",
        "  new_targets_list += [_class_name]\n",
        "  def collate_fn(batch):\n",
        "          tensors, targets = [], []\n",
        "          for waveform, label in batch:\n",
        "                  tensors += [torch.squeeze(waveform)]\n",
        "                  targets += [label_to_index(_temp, label)]\n",
        "          tensors = torch.unsqueeze(pad_sequence(tensors), 1)\n",
        "          targets = torch.stack(targets)\n",
        "          return tensors, targets\n",
        "  traindata._walker += old_traindata._walker\n",
        "  new_novel_train_dataloader = DataLoader(traindata,batch_size=10, collate_fn=collate_fn, shuffle=True)\n",
        "  new_novel_test_dataloader = DataLoader(testdata, batch_size = 10, collate_fn=collate_fn, shuffle=True)\n",
        "\n",
        "  train(train_dataloader= new_novel_train_dataloader, \n",
        "      test_dataloader= new_novel_test_dataloader, \n",
        "      old_test_dataloader= old_test_dataloader,\n",
        "      optimizer= optimizer, \n",
        "      model= model, \n",
        "      num_epochs= num_epochs, \n",
        "      scheduler= scheduler, \n",
        "      log = log)"
      ]
    },
    {
      "cell_type": "code",
      "source": [
        "#make pandas dataframe\n",
        "df_multiclass_logs = pd.DataFrame(log)"
      ],
      "metadata": {
        "id": "5cSdxXA75yl5"
      },
      "execution_count": null,
      "outputs": []
    },
    {
      "cell_type": "code",
      "source": [
        "filename = str(datetime.now().date()) + '_' + str(datetime.now().time()).replace(':', '.')\n",
        "# path = \"results_lwof_multiclass_single_head\" + str(init_labels['random_norm']) + '_' + filename\n",
        "# path = \"results_lwof_multiclass_single_head\" + str(init_labels['random']) + '_' + filename\n",
        "# path = \"results_lwof_multiclass_single_head\" + str(init_labels['negative']) + '_' + filename\n",
        "# path = \"results_lwof_multiclass_single_head\" + str(init_labels['negative_norm']) + '_' + filename\n",
        "# path = \"results_lwof_multiclass_single_head\" + str(init_labels['xavier_uniform']) + '_' + filename\n",
        "path = \"results_joint_training_multiclass_single_head\" + str(init_labels['xavier_uniform_norm']) + '_' + filename\n",
        "# path = \"results_lwof_multiclass_single_head\" + str(init_labels['kaiming_uniform']) + '_' + filename\n",
        "# path = \"results_lwof_multiclass_single_head\" + str(init_labels['kaiming_uniform_norm']) + '_' + filename\n",
        "\n",
        "df_multiclass_logs.to_pickle(path)\n",
        "print(f\"Saved training data to file {path}\")\n",
        "     "
      ],
      "metadata": {
        "colab": {
          "base_uri": "https://localhost:8080/"
        },
        "id": "DuJO1KF-_9ce",
        "outputId": "5a8aeb09-0de0-4e98-dc7c-3159f20ff609"
      },
      "execution_count": null,
      "outputs": [
        {
          "output_type": "stream",
          "name": "stdout",
          "text": [
            "Saved training data to file results_joint_training_multiclass_single_headXavier_Uniform_with_Normalization_2022-12-06_11.07.48.621007\n"
          ]
        }
      ]
    },
    {
      "cell_type": "code",
      "source": [
        "fig = plt.figure(figsize=(10,6))\n",
        "old_class_acc = df_multiclass_logs[['old_class_accuracy']][::num_epochs]\n",
        "task_number = np.arange(len(old_class_acc))\n",
        "plt.plot(task_number,old_class_acc, label= \"Old Task Accuracy\", marker = 'o')\n",
        "plt.xlabel(\"Num of task\", weight = 'bold')\n",
        "plt.ylabel(\"Accuracy\", weight = 'bold')\n",
        "plt.xticks(weight='bold')\n",
        "plt.yticks(np.arange(0,1.1,0.1),weight='bold')\n",
        "plt.title(\"Old class accuracy with addition of new task individually for Joint Training\", weight = 'bold')\n",
        "plt.legend()\n",
        "# fig.savefig(\"Joint_training_multiclass.png\", format=\"png\", dpi=600, bbox_inches=\"tight\")\n",
        "# fig.savefig(\"Joint_training_multiclass.eps\", format=\"eps\", dpi=1200, bbox_inches=\"tight\", transparent=True)\n",
        "# fig.savefig(\"Joint_training_multiclass.pdf\", format=\"pdf\", dpi=1200, bbox_inches=\"tight\", transparent=True)"
      ],
      "metadata": {
        "colab": {
          "base_uri": "https://localhost:8080/",
          "height": 421
        },
        "id": "d-bu2wZ6__sP",
        "outputId": "5fef2e90-cd83-48c2-e323-79cdab4a6951"
      },
      "execution_count": null,
      "outputs": [
        {
          "output_type": "execute_result",
          "data": {
            "text/plain": [
              "<matplotlib.legend.Legend at 0x7f536af4b640>"
            ]
          },
          "metadata": {},
          "execution_count": 50
        },
        {
          "output_type": "display_data",
          "data": {
            "text/plain": [
              "<Figure size 720x432 with 1 Axes>"
            ],
            "image/png": "[encoded data removed]"
          },
          "metadata": {
            "needs_background": "light"
          }
        }
      ]
    },
    {
      "cell_type": "markdown",
      "source": [
        "For random class"
      ],
      "metadata": {
        "id": "4IXcm-5bHYzm"
      }
    },
    {
      "cell_type": "code",
      "source": [
        "learning_rate = 0.001\n",
        "# T = 2\n",
        "# alpha = 1\n",
        "weight_decay = 1e-3\n",
        "num_epochs = 3\n",
        "log = []\n",
        "_network = 'vgg'\n",
        "\n",
        "# #Model \n",
        "device = torch.device(\"cuda\" if torch.cuda.is_available() else \"cpu\")\n",
        "# load model\n",
        "print(\"Loading the pre-trained model...\")\n",
        "model = get_convnet(\"vgg\")\n",
        "\n",
        "#save old accuracy before increment\n",
        "old_class_accuracy, old_class_loss = calculate_accuracy(dataloader=old_test_dataloader, model=model)\n",
        "log.append({\n",
        "  'epoch': -1,\n",
        "  'train_loss': np.nan,\n",
        "  'train_accuracy': 0,\n",
        "  'val_loss': np.nan,\n",
        "  'val_accuracy': 0,\n",
        "  'old_class_loss' : old_class_loss,\n",
        "  'old_class_accuracy': old_class_accuracy\n",
        "  })"
      ],
      "metadata": {
        "id": "p6FfAAYfHadU",
        "outputId": "ef09e944-a212-4919-bc3f-f40a80937a87",
        "colab": {
          "base_uri": "https://localhost:8080/"
        }
      },
      "execution_count": null,
      "outputs": [
        {
          "output_type": "stream",
          "name": "stdout",
          "text": [
            "Loading the pre-trained model...\n",
            "getting VGG pre-trained model\n"
          ]
        }
      ]
    },
    {
      "cell_type": "code",
      "source": [
        "multiclass_learning = [\"follow\", \"marvin\", \"visual\", \"house\", \"happy\"]\n",
        "digits = ['zero','one', 'two', 'three', 'four', 'five', 'six', 'seven', 'eight', 'nine'] \n",
        "new_targets_list = digits\n",
        "\n",
        "_temp = digits + multiclass_learning\n",
        "old_traindata = SubsetSC(\"training\", \"old\", dataset_length=50)\n",
        "\n",
        "#save prev model before increment\n",
        "prev_model = copy.deepcopy(model)\n",
        "#freeze previous model\n",
        "for param in prev_model.parameters():\n",
        "  param.requires_grad = False\n",
        "\n",
        "#increse last nodes in multiclass\n",
        "# model = _incremental_model(model, is_normalize = True, _no_out_features = 15, _no_novel_class=len(multiclass_learning))\n",
        "model = _incremental_model(model, init_method=init_labels['random'], is_normalize = True, _no_out_features = 15, _no_novel_class=len(multiclass_learning))\n",
        "\n",
        "# optimizer = torch.optim.SGD(model.parameters(), lr=learning_rate, weight_decay=weight_decay, momentum=0.9)\n",
        "optimizer = torch.optim.Adam(model.parameters(), lr=learning_rate, weight_decay=weight_decay)\n",
        "scheduler = torch.optim.lr_scheduler.MultiStepLR(optimizer, milestones=[200], gamma=0.1) #dont want scheduler here\n",
        "\n",
        "old_traindata = SubsetSC(\"training\", \"old\", dataset_length=100)\n",
        "#for loop to learn novel tasks one by one and record old tasks performance during training.\n",
        "for _class_name in multiclass_learning:\n",
        "  print(f\"Training for {_class_name}\")\n",
        "  traindata = SubsetSC(\"training\", \"novel\", novel_class_list= [_class_name], dataset_length=50)\n",
        "  testdata = SubsetSC(\"testing\", \"novel\", novel_class_list= [_class_name], dataset_length=20)\n",
        "  new_targets_list += [_class_name]\n",
        "  def collate_fn(batch):\n",
        "          tensors, targets = [], []\n",
        "          for waveform, label in batch:\n",
        "                  tensors += [torch.squeeze(waveform)]\n",
        "                  targets += [label_to_index(_temp, label)]\n",
        "          tensors = torch.unsqueeze(pad_sequence(tensors), 1)\n",
        "          targets = torch.stack(targets)\n",
        "          return tensors, targets\n",
        "  traindata._walker += old_traindata._walker\n",
        "  new_novel_train_dataloader = DataLoader(traindata,batch_size=10, collate_fn=collate_fn, shuffle=True)\n",
        "  new_novel_test_dataloader = DataLoader(testdata, batch_size = 10, collate_fn=collate_fn, shuffle=True)\n",
        "\n",
        "  train(train_dataloader= new_novel_train_dataloader, \n",
        "      test_dataloader= new_novel_test_dataloader, \n",
        "      old_test_dataloader= old_test_dataloader,\n",
        "      optimizer= optimizer, \n",
        "      model= model, \n",
        "      num_epochs= num_epochs, \n",
        "      scheduler= scheduler, \n",
        "      log = log)"
      ],
      "metadata": {
        "id": "mZHeBhFmHnF1",
        "outputId": "81254e41-00de-4f12-c6c6-835a0bbd8ac3",
        "colab": {
          "base_uri": "https://localhost:8080/"
        }
      },
      "execution_count": null,
      "outputs": [
        {
          "output_type": "stream",
          "name": "stdout",
          "text": [
            "with L2 normalization\n",
            "Training for follow\n",
            "Epoch [0]... train_loss: 6.354710253079732, train_acc: 0.31333333333333335\n",
            "\t     val_loss: 1.9808743000030518, val_acc: 0.65\n",
            "\t     old_loss: 0.3826931118965149, old_acc: 0.814112343966713\n",
            "Epoch [1]... train_loss: 3.2018110434214275, train_acc: 0.3933333333333333\n",
            "\t     val_loss: 1.8448808193206787, val_acc: 0.35\n",
            "\t     old_loss: 0.7962970733642578, old_acc: 0.830374479889043\n",
            "Epoch [2]... train_loss: 2.281388767560323, train_acc: 0.42\n",
            "\t     val_loss: 1.270092487335205, val_acc: 0.6\n",
            "\t     old_loss: 0.5162442326545715, old_acc: 0.8384188626907073\n",
            "Training for marvin\n",
            "Epoch [0]... train_loss: 3.4136276324590047, train_acc: 0.26666666666666666\n",
            "\t     val_loss: 2.93949556350708, val_acc: 0.0\n",
            "\t     old_loss: 0.5026664137840271, old_acc: 0.8684466019417476\n",
            "Epoch [1]... train_loss: 2.476107056935628, train_acc: 0.38666666666666666\n",
            "\t     val_loss: 2.1121597290039062, val_acc: 0.55\n",
            "\t     old_loss: 1.9406611919403076, old_acc: 0.8379680998613037\n",
            "Epoch [2]... train_loss: 2.640767558415731, train_acc: 0.44666666666666666\n",
            "\t     val_loss: 2.264277458190918, val_acc: 0.6000000000000001\n",
            "\t     old_loss: 0.22331809997558594, old_acc: 0.8487864077669903\n",
            "Training for visual\n",
            "Epoch [0]... train_loss: 3.670590313275655, train_acc: 0.29333333333333333\n",
            "\t     val_loss: 3.26543927192688, val_acc: 0.0\n",
            "\t     old_loss: 1.3137495517730713, old_acc: 0.8597780859916783\n",
            "Epoch [1]... train_loss: 2.803104114532471, train_acc: 0.2866666666666667\n",
            "\t     val_loss: 1.8802878856658936, val_acc: 0.1\n",
            "\t     old_loss: 0.01477297954261303, old_acc: 0.8587378640776699\n",
            "Epoch [2]... train_loss: 2.6885079622268675, train_acc: 0.36\n",
            "\t     val_loss: 2.0914320945739746, val_acc: 0.35\n",
            "\t     old_loss: 0.7619739174842834, old_acc: 0.8184812760055479\n",
            "Training for house\n",
            "Epoch [0]... train_loss: 3.0352749983469645, train_acc: 0.2866666666666667\n",
            "\t     val_loss: 2.616279363632202, val_acc: 0.0\n",
            "\t     old_loss: 1.1631238460540771, old_acc: 0.8342926490984743\n",
            "Epoch [1]... train_loss: 2.5866356690724692, train_acc: 0.3666666666666667\n",
            "\t     val_loss: 1.8503974676132202, val_acc: 0.8500000000000001\n",
            "\t     old_loss: 0.8998989462852478, old_acc: 0.7951803051317614\n",
            "Epoch [2]... train_loss: 1.9969906330108642, train_acc: 0.42\n",
            "\t     val_loss: 0.99920254945755, val_acc: 1.0\n",
            "\t     old_loss: 0.4061368405818939, old_acc: 0.7345353675450763\n",
            "Training for happy\n",
            "Epoch [0]... train_loss: 3.084373958905538, train_acc: 0.26666666666666666\n",
            "\t     val_loss: 2.746166706085205, val_acc: 0.0\n",
            "\t     old_loss: 0.3878140449523926, old_acc: 0.8303398058252427\n",
            "Epoch [1]... train_loss: 2.5691195567448935, train_acc: 0.2866666666666667\n",
            "\t     val_loss: 2.67482590675354, val_acc: 0.0\n",
            "\t     old_loss: 0.6650005578994751, old_acc: 0.8204230235783634\n",
            "Epoch [2]... train_loss: 2.5148638486862183, train_acc: 0.2733333333333333\n",
            "\t     val_loss: 2.7260782718658447, val_acc: 0.0\n",
            "\t     old_loss: 0.8022295832633972, old_acc: 0.8388349514563107\n"
          ]
        }
      ]
    },
    {
      "cell_type": "code",
      "source": [
        "#make pandas dataframe\n",
        "df_multiclass_logs = pd.DataFrame(log)\n",
        "filename = str(datetime.now().date()) + '_' + str(datetime.now().time()).replace(':', '.')\n",
        "path = \"results_joint_multiclass_single_head\" + str(init_labels['random_norm']) + '_' + filename\n",
        "df_multiclass_logs.to_pickle(path)\n",
        "print(f\"Saved training data to file {path}\")"
      ],
      "metadata": {
        "id": "ZHKG8MLDLwVW",
        "outputId": "2a870bdc-5438-4994-ffc0-77f9857577c3",
        "colab": {
          "base_uri": "https://localhost:8080/"
        }
      },
      "execution_count": null,
      "outputs": [
        {
          "output_type": "stream",
          "name": "stdout",
          "text": [
            "Saved training data to file results_joint_multiclass_single_headRandom_with_Normalization_2022-12-20_11.00.12.045049\n"
          ]
        }
      ]
    },
    {
      "cell_type": "code",
      "source": [
        "fig = plt.figure(figsize=(10,6))\n",
        "old_class_acc = df_multiclass_logs[['old_class_accuracy']][::num_epochs]\n",
        "task_number = np.arange(len(old_class_acc))\n",
        "plt.plot(task_number,old_class_acc, label= \"Old Task Accuracy\", marker = 'o')\n",
        "plt.xlabel(\"Num of task\", weight = 'bold')\n",
        "plt.ylabel(\"Accuracy\", weight = 'bold')\n",
        "plt.xticks(weight='bold')\n",
        "plt.yticks(np.arange(0,1.1,0.1),weight='bold')\n",
        "plt.title(\"Old class accuracy with addition of new task individually for Joint Training\", weight = 'bold')\n",
        "plt.legend()"
      ],
      "metadata": {
        "id": "ViGVJtknMCNR",
        "outputId": "84cd129d-dca8-4352-ec54-6ed093e33470",
        "colab": {
          "base_uri": "https://localhost:8080/",
          "height": 421
        }
      },
      "execution_count": null,
      "outputs": [
        {
          "output_type": "execute_result",
          "data": {
            "text/plain": [
              "<matplotlib.legend.Legend at 0x7f6e11b4a2b0>"
            ]
          },
          "metadata": {},
          "execution_count": 16
        },
        {
          "output_type": "display_data",
          "data": {
            "text/plain": [
              "<Figure size 720x432 with 1 Axes>"
            ],
            "image/png": "[encoded data removed]"
          },
          "metadata": {
            "needs_background": "light"
          }
        }
      ]
    },
    {
      "cell_type": "markdown",
      "source": [
        "# Comparision with LwF algorithm and Retraining Baseline "
      ],
      "metadata": {
        "id": "-BVBO23JADem"
      }
    },
    {
      "cell_type": "code",
      "source": [
        "#take above saved result pickle files for lwf and \n",
        "#take saved result file for retraining baselin(From https://github.com/PriyankaTUI/AudioClassificationWithDeepLearningAnalysis/tree/master/results)\n",
        "\n",
        "_lwf_result = pd.read_pickle(\"results/lwof/results_lwof_multiclass_single_headXavier_Uniform_with_Normalization_2022-11-29_11.31.17.090686\")\n",
        "_retraining_baseline_result = pd.read_pickle(\"results/retrain/retraining_baseline.pkl\")\n",
        "_joint_training_results = pd.read_pickle(\"results/joint_training/results_joint_training_multiclass_single_headXavier_Uniform_with_Normalization_2022-12-06_11.07.48.621007\")\n",
        "_lwf_result_random = pd.read_pickle(\"results/lwof/results_lwof_multiclass_single_headRandom_2022-12-19_19.25.13.161972\")\n",
        "_joint_training_random = pd.read_pickle(\"results/joint_training/results_joint_multiclass_single_headRandom_with_Normalization_2022-12-20_11.00.12.045049\")\n",
        "\n",
        "fig = plt.figure(figsize = (15,6))\n",
        "lwf_old_class_acc = _lwf_result[['old_class_accuracy']][::3]\n",
        "joint_trainig_acc = _joint_training_results[['old_class_accuracy']][::3]\n",
        "retraining_baseline_old_class_acc = _retraining_baseline_result[['old_class_accuracy']][::3]\n",
        "lwf_old_class_acc_random = _lwf_result_random[['old_class_accuracy']][::2]\n",
        "joint_trainig_acc_random = _joint_training_random[['old_class_accuracy']][::3]\n",
        "task_number = np.arange(len(lwf_old_class_acc))\n",
        "\n",
        "plt.plot(task_number,retraining_baseline_old_class_acc, label= \"Retraining Old Task Accuracy\", marker = 'o', color = 'r')\n",
        "plt.plot(task_number,lwf_old_class_acc, label= \"LwF Old Task Accuracy for Xavier Uniform initialization\", marker = '*', color = 'b', linestyle='--')\n",
        "plt.plot(task_number,lwf_old_class_acc_random, label= \"LwF Old Task Accuracy for Random initialization\", marker = 'o', color = 'b')\n",
        "plt.plot(task_number,joint_trainig_acc, label= \"Joint Training Old Task Accuracy for Xavier Uniform initialization\", marker = '*', color = 'g', linestyle='--')\n",
        "plt.plot(task_number,joint_trainig_acc_random, label= \"Joint Training Old Task Accuracy for Random initialization\", marker = 'o', color = 'g')\n",
        "plt.xlabel(\"Num of task\", weight = 'bold')\n",
        "plt.ylabel(\"Old Class Accuracy\", weight = 'bold')\n",
        "plt.xticks(weight='bold')\n",
        "plt.yticks(np.arange(0,1.1,0.1),weight='bold')\n",
        "plt.title(\"Comparison of the Joint Training, the LwF algorithm and the Retraining baseline in terms of Old class accuracy\", weight = 'bold')\n",
        "plt.legend()\n",
        "fig.savefig(\"joint_lwf_retraining_comparision_improved.png\", format=\"png\", dpi=600, bbox_inches=\"tight\")\n",
        "fig.savefig(\"joint_lwf_retraining_comparision_improved.eps\", format=\"eps\", dpi=1200, bbox_inches=\"tight\", transparent=True)\n",
        "fig.savefig(\"joint_lwf_retrining_comparision_improved.pdf\", format=\"pdf\", dpi=1200, bbox_inches=\"tight\", transparent=True)\n"
      ],
      "metadata": {
        "colab": {
          "base_uri": "https://localhost:8080/",
          "height": 459
        },
        "id": "0JUSQMicALWp",
        "outputId": "1fb84075-d1b6-44ec-b39b-cd929673bff8"
      },
      "execution_count": 8,
      "outputs": [
        {
          "output_type": "stream",
          "name": "stderr",
          "text": [
            "WARNING:matplotlib.backends.backend_ps:The PostScript backend does not support transparency; partially transparent artists will be rendered opaque.\n",
            "WARNING:matplotlib.backends.backend_ps:The PostScript backend does not support transparency; partially transparent artists will be rendered opaque.\n"
          ]
        },
        {
          "output_type": "display_data",
          "data": {
            "text/plain": [
              "<Figure size 1080x432 with 1 Axes>"
            ],
            "image/png": "[encoded data removed]"
          },
          "metadata": {
            "needs_background": "light"
          }
        }
      ]
    },
    {
      "cell_type": "code",
      "source": [],
      "metadata": {
        "id": "KvW0OwdqEh0c"
      },
      "execution_count": null,
      "outputs": []
    }
  ],
  "metadata": {
    "kernelspec": {
      "display_name": "Python 3.10.4 ('HiWi')",
      "language": "python",
      "name": "python3"
    },
    "language_info": {
      "codemirror_mode": {
        "name": "ipython",
        "version": 3
      },
      "file_extension": ".py",
      "mimetype": "text/x-python",
      "name": "python",
      "nbconvert_exporter": "python",
      "pygments_lexer": "ipython3",
      "version": "3.10.4"
    },
    "orig_nbformat": 4,
    "vscode": {
      "interpreter": {
        "hash": "51dab522930012ad002a27911cbffd3066aed72b8db7b08beb90266f5e36f855"
      }
    },
    "colab": {
      "provenance": [],
      "include_colab_link": true
    },
    "widgets": {
      "application/vnd.jupyter.widget-state+json": {
        "7c7c065320a74385bbf551c3c2001cbf": {
          "model_module": "@jupyter-widgets/controls",
          "model_name": "HBoxModel",
          "model_module_version": "1.5.0",
          "state": {
            "_dom_classes": [],
            "_model_module": "@jupyter-widgets/controls",
            "_model_module_version": "1.5.0",
            "_model_name": "HBoxModel",
            "_view_count": null,
            "_view_module": "@jupyter-widgets/controls",
            "_view_module_version": "1.5.0",
            "_view_name": "HBoxView",
            "box_style": "",
            "children": [
              "IPY_MODEL_eeafa2ff61cc40b390b1b0a654d85924",
              "IPY_MODEL_38f1a7e797304bf6a8d1c669317204df",
              "IPY_MODEL_9aed3261157c49599139d62bb305f52b"
            ],
            "layout": "IPY_MODEL_3be94a9fce4046759805555d7f396bbd"
          }
        },
        "eeafa2ff61cc40b390b1b0a654d85924": {
          "model_module": "@jupyter-widgets/controls",
          "model_name": "HTMLModel",
          "model_module_version": "1.5.0",
          "state": {
            "_dom_classes": [],
            "_model_module": "@jupyter-widgets/controls",
            "_model_module_version": "1.5.0",
            "_model_name": "HTMLModel",
            "_view_count": null,
            "_view_module": "@jupyter-widgets/controls",
            "_view_module_version": "1.5.0",
            "_view_name": "HTMLView",
            "description": "",
            "description_tooltip": null,
            "layout": "IPY_MODEL_7396e1a7aa074887828e85841a6f6e91",
            "placeholder": "​",
            "style": "IPY_MODEL_e6ac4c333fba4d24aefecd8a63146f48",
            "value": "100%"
          }
        },
        "38f1a7e797304bf6a8d1c669317204df": {
          "model_module": "@jupyter-widgets/controls",
          "model_name": "FloatProgressModel",
          "model_module_version": "1.5.0",
          "state": {
            "_dom_classes": [],
            "_model_module": "@jupyter-widgets/controls",
            "_model_module_version": "1.5.0",
            "_model_name": "FloatProgressModel",
            "_view_count": null,
            "_view_module": "@jupyter-widgets/controls",
            "_view_module_version": "1.5.0",
            "_view_name": "ProgressView",
            "bar_style": "success",
            "description": "",
            "description_tooltip": null,
            "layout": "IPY_MODEL_501b8c7fbbd84caa8cdc8161b36150d8",
            "max": 2428923189,
            "min": 0,
            "orientation": "horizontal",
            "style": "IPY_MODEL_8cbc91aff97b448e84fe0dab41538721",
            "value": 2428923189
          }
        },
        "9aed3261157c49599139d62bb305f52b": {
          "model_module": "@jupyter-widgets/controls",
          "model_name": "HTMLModel",
          "model_module_version": "1.5.0",
          "state": {
            "_dom_classes": [],
            "_model_module": "@jupyter-widgets/controls",
            "_model_module_version": "1.5.0",
            "_model_name": "HTMLModel",
            "_view_count": null,
            "_view_module": "@jupyter-widgets/controls",
            "_view_module_version": "1.5.0",
            "_view_name": "HTMLView",
            "description": "",
            "description_tooltip": null,
            "layout": "IPY_MODEL_2801ed74b6134509a8363b90661997b9",
            "placeholder": "​",
            "style": "IPY_MODEL_83ebc5113cc8487ea476a10eccc63e7b",
            "value": " 2.26G/2.26G [00:29&lt;00:00, 84.9MB/s]"
          }
        },
        "3be94a9fce4046759805555d7f396bbd": {
          "model_module": "@jupyter-widgets/base",
          "model_name": "LayoutModel",
          "model_module_version": "1.2.0",
          "state": {
            "_model_module": "@jupyter-widgets/base",
            "_model_module_version": "1.2.0",
            "_model_name": "LayoutModel",
            "_view_count": null,
            "_view_module": "@jupyter-widgets/base",
            "_view_module_version": "1.2.0",
            "_view_name": "LayoutView",
            "align_content": null,
            "align_items": null,
            "align_self": null,
            "border": null,
            "bottom": null,
            "display": null,
            "flex": null,
            "flex_flow": null,
            "grid_area": null,
            "grid_auto_columns": null,
            "grid_auto_flow": null,
            "grid_auto_rows": null,
            "grid_column": null,
            "grid_gap": null,
            "grid_row": null,
            "grid_template_areas": null,
            "grid_template_columns": null,
            "grid_template_rows": null,
            "height": null,
            "justify_content": null,
            "justify_items": null,
            "left": null,
            "margin": null,
            "max_height": null,
            "max_width": null,
            "min_height": null,
            "min_width": null,
            "object_fit": null,
            "object_position": null,
            "order": null,
            "overflow": null,
            "overflow_x": null,
            "overflow_y": null,
            "padding": null,
            "right": null,
            "top": null,
            "visibility": null,
            "width": null
          }
        },
        "7396e1a7aa074887828e85841a6f6e91": {
          "model_module": "@jupyter-widgets/base",
          "model_name": "LayoutModel",
          "model_module_version": "1.2.0",
          "state": {
            "_model_module": "@jupyter-widgets/base",
            "_model_module_version": "1.2.0",
            "_model_name": "LayoutModel",
            "_view_count": null,
            "_view_module": "@jupyter-widgets/base",
            "_view_module_version": "1.2.0",
            "_view_name": "LayoutView",
            "align_content": null,
            "align_items": null,
            "align_self": null,
            "border": null,
            "bottom": null,
            "display": null,
            "flex": null,
            "flex_flow": null,
            "grid_area": null,
            "grid_auto_columns": null,
            "grid_auto_flow": null,
            "grid_auto_rows": null,
            "grid_column": null,
            "grid_gap": null,
            "grid_row": null,
            "grid_template_areas": null,
            "grid_template_columns": null,
            "grid_template_rows": null,
            "height": null,
            "justify_content": null,
            "justify_items": null,
            "left": null,
            "margin": null,
            "max_height": null,
            "max_width": null,
            "min_height": null,
            "min_width": null,
            "object_fit": null,
            "object_position": null,
            "order": null,
            "overflow": null,
            "overflow_x": null,
            "overflow_y": null,
            "padding": null,
            "right": null,
            "top": null,
            "visibility": null,
            "width": null
          }
        },
        "e6ac4c333fba4d24aefecd8a63146f48": {
          "model_module": "@jupyter-widgets/controls",
          "model_name": "DescriptionStyleModel",
          "model_module_version": "1.5.0",
          "state": {
            "_model_module": "@jupyter-widgets/controls",
            "_model_module_version": "1.5.0",
            "_model_name": "DescriptionStyleModel",
            "_view_count": null,
            "_view_module": "@jupyter-widgets/base",
            "_view_module_version": "1.2.0",
            "_view_name": "StyleView",
            "description_width": ""
          }
        },
        "501b8c7fbbd84caa8cdc8161b36150d8": {
          "model_module": "@jupyter-widgets/base",
          "model_name": "LayoutModel",
          "model_module_version": "1.2.0",
          "state": {
            "_model_module": "@jupyter-widgets/base",
            "_model_module_version": "1.2.0",
            "_model_name": "LayoutModel",
            "_view_count": null,
            "_view_module": "@jupyter-widgets/base",
            "_view_module_version": "1.2.0",
            "_view_name": "LayoutView",
            "align_content": null,
            "align_items": null,
            "align_self": null,
            "border": null,
            "bottom": null,
            "display": null,
            "flex": null,
            "flex_flow": null,
            "grid_area": null,
            "grid_auto_columns": null,
            "grid_auto_flow": null,
            "grid_auto_rows": null,
            "grid_column": null,
            "grid_gap": null,
            "grid_row": null,
            "grid_template_areas": null,
            "grid_template_columns": null,
            "grid_template_rows": null,
            "height": null,
            "justify_content": null,
            "justify_items": null,
            "left": null,
            "margin": null,
            "max_height": null,
            "max_width": null,
            "min_height": null,
            "min_width": null,
            "object_fit": null,
            "object_position": null,
            "order": null,
            "overflow": null,
            "overflow_x": null,
            "overflow_y": null,
            "padding": null,
            "right": null,
            "top": null,
            "visibility": null,
            "width": null
          }
        },
        "8cbc91aff97b448e84fe0dab41538721": {
          "model_module": "@jupyter-widgets/controls",
          "model_name": "ProgressStyleModel",
          "model_module_version": "1.5.0",
          "state": {
            "_model_module": "@jupyter-widgets/controls",
            "_model_module_version": "1.5.0",
            "_model_name": "ProgressStyleModel",
            "_view_count": null,
            "_view_module": "@jupyter-widgets/base",
            "_view_module_version": "1.2.0",
            "_view_name": "StyleView",
            "bar_color": null,
            "description_width": ""
          }
        },
        "2801ed74b6134509a8363b90661997b9": {
          "model_module": "@jupyter-widgets/base",
          "model_name": "LayoutModel",
          "model_module_version": "1.2.0",
          "state": {
            "_model_module": "@jupyter-widgets/base",
            "_model_module_version": "1.2.0",
            "_model_name": "LayoutModel",
            "_view_count": null,
            "_view_module": "@jupyter-widgets/base",
            "_view_module_version": "1.2.0",
            "_view_name": "LayoutView",
            "align_content": null,
            "align_items": null,
            "align_self": null,
            "border": null,
            "bottom": null,
            "display": null,
            "flex": null,
            "flex_flow": null,
            "grid_area": null,
            "grid_auto_columns": null,
            "grid_auto_flow": null,
            "grid_auto_rows": null,
            "grid_column": null,
            "grid_gap": null,
            "grid_row": null,
            "grid_template_areas": null,
            "grid_template_columns": null,
            "grid_template_rows": null,
            "height": null,
            "justify_content": null,
            "justify_items": null,
            "left": null,
            "margin": null,
            "max_height": null,
            "max_width": null,
            "min_height": null,
            "min_width": null,
            "object_fit": null,
            "object_position": null,
            "order": null,
            "overflow": null,
            "overflow_x": null,
            "overflow_y": null,
            "padding": null,
            "right": null,
            "top": null,
            "visibility": null,
            "width": null
          }
        },
        "83ebc5113cc8487ea476a10eccc63e7b": {
          "model_module": "@jupyter-widgets/controls",
          "model_name": "DescriptionStyleModel",
          "model_module_version": "1.5.0",
          "state": {
            "_model_module": "@jupyter-widgets/controls",
            "_model_module_version": "1.5.0",
            "_model_name": "DescriptionStyleModel",
            "_view_count": null,
            "_view_module": "@jupyter-widgets/base",
            "_view_module_version": "1.2.0",
            "_view_name": "StyleView",
            "description_width": ""
          }
        }
      }
    }
  },
  "nbformat": 4,
  "nbformat_minor": 0
}