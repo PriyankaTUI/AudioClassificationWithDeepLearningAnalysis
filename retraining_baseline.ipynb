{
  "nbformat": 4,
  "nbformat_minor": 0,
  "metadata": {
    "colab": {
      "provenance": [],
      "authorship_tag": "ABX9TyM19VuukaXy1dCbSYMZcP1N",
      "include_colab_link": true
    },
    "kernelspec": {
      "name": "python3",
      "display_name": "Python 3"
    },
    "language_info": {
      "name": "python"
    },
    "accelerator": "GPU",
    "gpuClass": "standard",
    "widgets": {
      "application/vnd.jupyter.widget-state+json": {
        "dfe184db5c7b401c881902fcd2898134": {
          "model_module": "@jupyter-widgets/controls",
          "model_name": "HBoxModel",
          "model_module_version": "1.5.0",
          "state": {
            "_dom_classes": [],
            "_model_module": "@jupyter-widgets/controls",
            "_model_module_version": "1.5.0",
            "_model_name": "HBoxModel",
            "_view_count": null,
            "_view_module": "@jupyter-widgets/controls",
            "_view_module_version": "1.5.0",
            "_view_name": "HBoxView",
            "box_style": "",
            "children": [
              "IPY_MODEL_207a991a46b84704838906f36ad2d9a4",
              "IPY_MODEL_83f2c66bd1c64598a2cd877fc84dc7ed",
              "IPY_MODEL_97d0e9ff062548279a108530253be266"
            ],
            "layout": "IPY_MODEL_227422fea8fc41679ca8f765a9dacc1b"
          }
        },
        "207a991a46b84704838906f36ad2d9a4": {
          "model_module": "@jupyter-widgets/controls",
          "model_name": "HTMLModel",
          "model_module_version": "1.5.0",
          "state": {
            "_dom_classes": [],
            "_model_module": "@jupyter-widgets/controls",
            "_model_module_version": "1.5.0",
            "_model_name": "HTMLModel",
            "_view_count": null,
            "_view_module": "@jupyter-widgets/controls",
            "_view_module_version": "1.5.0",
            "_view_name": "HTMLView",
            "description": "",
            "description_tooltip": null,
            "layout": "IPY_MODEL_5da5d95de36441e98d1056476993b9cf",
            "placeholder": "​",
            "style": "IPY_MODEL_5492958ad27e4fab955a3b49243e519d",
            "value": "100%"
          }
        },
        "83f2c66bd1c64598a2cd877fc84dc7ed": {
          "model_module": "@jupyter-widgets/controls",
          "model_name": "FloatProgressModel",
          "model_module_version": "1.5.0",
          "state": {
            "_dom_classes": [],
            "_model_module": "@jupyter-widgets/controls",
            "_model_module_version": "1.5.0",
            "_model_name": "FloatProgressModel",
            "_view_count": null,
            "_view_module": "@jupyter-widgets/controls",
            "_view_module_version": "1.5.0",
            "_view_name": "ProgressView",
            "bar_style": "success",
            "description": "",
            "description_tooltip": null,
            "layout": "IPY_MODEL_a8fa2e4359ce4ccf9b8c74d6dd91e786",
            "max": 2428923189,
            "min": 0,
            "orientation": "horizontal",
            "style": "IPY_MODEL_21301a1c89a44d749e235f02595d9e5e",
            "value": 2428923189
          }
        },
        "97d0e9ff062548279a108530253be266": {
          "model_module": "@jupyter-widgets/controls",
          "model_name": "HTMLModel",
          "model_module_version": "1.5.0",
          "state": {
            "_dom_classes": [],
            "_model_module": "@jupyter-widgets/controls",
            "_model_module_version": "1.5.0",
            "_model_name": "HTMLModel",
            "_view_count": null,
            "_view_module": "@jupyter-widgets/controls",
            "_view_module_version": "1.5.0",
            "_view_name": "HTMLView",
            "description": "",
            "description_tooltip": null,
            "layout": "IPY_MODEL_c6f7940d32764662b8083a3e28a41f8d",
            "placeholder": "​",
            "style": "IPY_MODEL_2ceacb4fa5cf43deaab7cb984f422807",
            "value": " 2.26G/2.26G [00:19&lt;00:00, 131MB/s]"
          }
        },
        "227422fea8fc41679ca8f765a9dacc1b": {
          "model_module": "@jupyter-widgets/base",
          "model_name": "LayoutModel",
          "model_module_version": "1.2.0",
          "state": {
            "_model_module": "@jupyter-widgets/base",
            "_model_module_version": "1.2.0",
            "_model_name": "LayoutModel",
            "_view_count": null,
            "_view_module": "@jupyter-widgets/base",
            "_view_module_version": "1.2.0",
            "_view_name": "LayoutView",
            "align_content": null,
            "align_items": null,
            "align_self": null,
            "border": null,
            "bottom": null,
            "display": null,
            "flex": null,
            "flex_flow": null,
            "grid_area": null,
            "grid_auto_columns": null,
            "grid_auto_flow": null,
            "grid_auto_rows": null,
            "grid_column": null,
            "grid_gap": null,
            "grid_row": null,
            "grid_template_areas": null,
            "grid_template_columns": null,
            "grid_template_rows": null,
            "height": null,
            "justify_content": null,
            "justify_items": null,
            "left": null,
            "margin": null,
            "max_height": null,
            "max_width": null,
            "min_height": null,
            "min_width": null,
            "object_fit": null,
            "object_position": null,
            "order": null,
            "overflow": null,
            "overflow_x": null,
            "overflow_y": null,
            "padding": null,
            "right": null,
            "top": null,
            "visibility": null,
            "width": null
          }
        },
        "5da5d95de36441e98d1056476993b9cf": {
          "model_module": "@jupyter-widgets/base",
          "model_name": "LayoutModel",
          "model_module_version": "1.2.0",
          "state": {
            "_model_module": "@jupyter-widgets/base",
            "_model_module_version": "1.2.0",
            "_model_name": "LayoutModel",
            "_view_count": null,
            "_view_module": "@jupyter-widgets/base",
            "_view_module_version": "1.2.0",
            "_view_name": "LayoutView",
            "align_content": null,
            "align_items": null,
            "align_self": null,
            "border": null,
            "bottom": null,
            "display": null,
            "flex": null,
            "flex_flow": null,
            "grid_area": null,
            "grid_auto_columns": null,
            "grid_auto_flow": null,
            "grid_auto_rows": null,
            "grid_column": null,
            "grid_gap": null,
            "grid_row": null,
            "grid_template_areas": null,
            "grid_template_columns": null,
            "grid_template_rows": null,
            "height": null,
            "justify_content": null,
            "justify_items": null,
            "left": null,
            "margin": null,
            "max_height": null,
            "max_width": null,
            "min_height": null,
            "min_width": null,
            "object_fit": null,
            "object_position": null,
            "order": null,
            "overflow": null,
            "overflow_x": null,
            "overflow_y": null,
            "padding": null,
            "right": null,
            "top": null,
            "visibility": null,
            "width": null
          }
        },
        "5492958ad27e4fab955a3b49243e519d": {
          "model_module": "@jupyter-widgets/controls",
          "model_name": "DescriptionStyleModel",
          "model_module_version": "1.5.0",
          "state": {
            "_model_module": "@jupyter-widgets/controls",
            "_model_module_version": "1.5.0",
            "_model_name": "DescriptionStyleModel",
            "_view_count": null,
            "_view_module": "@jupyter-widgets/base",
            "_view_module_version": "1.2.0",
            "_view_name": "StyleView",
            "description_width": ""
          }
        },
        "a8fa2e4359ce4ccf9b8c74d6dd91e786": {
          "model_module": "@jupyter-widgets/base",
          "model_name": "LayoutModel",
          "model_module_version": "1.2.0",
          "state": {
            "_model_module": "@jupyter-widgets/base",
            "_model_module_version": "1.2.0",
            "_model_name": "LayoutModel",
            "_view_count": null,
            "_view_module": "@jupyter-widgets/base",
            "_view_module_version": "1.2.0",
            "_view_name": "LayoutView",
            "align_content": null,
            "align_items": null,
            "align_self": null,
            "border": null,
            "bottom": null,
            "display": null,
            "flex": null,
            "flex_flow": null,
            "grid_area": null,
            "grid_auto_columns": null,
            "grid_auto_flow": null,
            "grid_auto_rows": null,
            "grid_column": null,
            "grid_gap": null,
            "grid_row": null,
            "grid_template_areas": null,
            "grid_template_columns": null,
            "grid_template_rows": null,
            "height": null,
            "justify_content": null,
            "justify_items": null,
            "left": null,
            "margin": null,
            "max_height": null,
            "max_width": null,
            "min_height": null,
            "min_width": null,
            "object_fit": null,
            "object_position": null,
            "order": null,
            "overflow": null,
            "overflow_x": null,
            "overflow_y": null,
            "padding": null,
            "right": null,
            "top": null,
            "visibility": null,
            "width": null
          }
        },
        "21301a1c89a44d749e235f02595d9e5e": {
          "model_module": "@jupyter-widgets/controls",
          "model_name": "ProgressStyleModel",
          "model_module_version": "1.5.0",
          "state": {
            "_model_module": "@jupyter-widgets/controls",
            "_model_module_version": "1.5.0",
            "_model_name": "ProgressStyleModel",
            "_view_count": null,
            "_view_module": "@jupyter-widgets/base",
            "_view_module_version": "1.2.0",
            "_view_name": "StyleView",
            "bar_color": null,
            "description_width": ""
          }
        },
        "c6f7940d32764662b8083a3e28a41f8d": {
          "model_module": "@jupyter-widgets/base",
          "model_name": "LayoutModel",
          "model_module_version": "1.2.0",
          "state": {
            "_model_module": "@jupyter-widgets/base",
            "_model_module_version": "1.2.0",
            "_model_name": "LayoutModel",
            "_view_count": null,
            "_view_module": "@jupyter-widgets/base",
            "_view_module_version": "1.2.0",
            "_view_name": "LayoutView",
            "align_content": null,
            "align_items": null,
            "align_self": null,
            "border": null,
            "bottom": null,
            "display": null,
            "flex": null,
            "flex_flow": null,
            "grid_area": null,
            "grid_auto_columns": null,
            "grid_auto_flow": null,
            "grid_auto_rows": null,
            "grid_column": null,
            "grid_gap": null,
            "grid_row": null,
            "grid_template_areas": null,
            "grid_template_columns": null,
            "grid_template_rows": null,
            "height": null,
            "justify_content": null,
            "justify_items": null,
            "left": null,
            "margin": null,
            "max_height": null,
            "max_width": null,
            "min_height": null,
            "min_width": null,
            "object_fit": null,
            "object_position": null,
            "order": null,
            "overflow": null,
            "overflow_x": null,
            "overflow_y": null,
            "padding": null,
            "right": null,
            "top": null,
            "visibility": null,
            "width": null
          }
        },
        "2ceacb4fa5cf43deaab7cb984f422807": {
          "model_module": "@jupyter-widgets/controls",
          "model_name": "DescriptionStyleModel",
          "model_module_version": "1.5.0",
          "state": {
            "_model_module": "@jupyter-widgets/controls",
            "_model_module_version": "1.5.0",
            "_model_name": "DescriptionStyleModel",
            "_view_count": null,
            "_view_module": "@jupyter-widgets/base",
            "_view_module_version": "1.2.0",
            "_view_name": "StyleView",
            "description_width": ""
          }
        }
      }
    }
  },
  "cells": [
    {
      "cell_type": "markdown",
      "metadata": {
        "id": "view-in-github",
        "colab_type": "text"
      },
      "source": [
        "<a href=\"https://colab.research.google.com/github/PriyankaTUI/AudioClassificationWithDeepLearningAnalysis/blob/master/retraining_baseline.ipynb\" target=\"_parent\"><img src=\"https://colab.research.google.com/assets/colab-badge.svg\" alt=\"Open In Colab\"/></a>"
      ]
    },
    {
      "cell_type": "code",
      "execution_count": 1,
      "metadata": {
        "colab": {
          "base_uri": "https://localhost:8080/"
        },
        "id": "UzM-87FqGRVO",
        "outputId": "94465d83-a13e-4d9b-a21a-996696c2b40c"
      },
      "outputs": [
        {
          "output_type": "stream",
          "name": "stdout",
          "text": [
            "Cloning into 'AudioClassificationWithDeepLearningAnalysis'...\n",
            "remote: Enumerating objects: 297, done.\u001b[K\n",
            "remote: Counting objects: 100% (152/152), done.\u001b[K\n",
            "remote: Compressing objects: 100% (114/114), done.\u001b[K\n",
            "remote: Total 297 (delta 97), reused 66 (delta 37), pack-reused 145\u001b[K\n",
            "Receiving objects: 100% (297/297), 45.55 MiB | 26.88 MiB/s, done.\n",
            "Resolving deltas: 100% (153/153), done.\n",
            "/content/AudioClassificationWithDeepLearningAnalysis\n",
            "/content/AudioClassificationWithDeepLearningAnalysis\n"
          ]
        }
      ],
      "source": [
        "!git clone https://github.com/PriyankaTUI/AudioClassificationWithDeepLearningAnalysis.git\n",
        "%cd AudioClassificationWithDeepLearningAnalysis\n",
        "!pwd"
      ]
    },
    {
      "cell_type": "markdown",
      "source": [
        "# Baseline to show the effect of catastrophic forgetting \n",
        "\n",
        "In this section, On the pre-trained network, we will continuously train novel classes.We observe that training new tasks significantly lowers the performance of the old class. This phenomenon is referred to as catestropic forgetting.\n",
        "\n",
        "\n",
        "Experiment:\n",
        "\n",
        "1. We will take pre-trained network.\n",
        "2. Pre-process new task data.\n",
        "3. train netwrok on new task individually and calculate old class accuracy.\n",
        "4. plot the old class performance in terms of accuracy after training for each novel class.\n",
        "\n",
        "Observation:\n",
        "\n",
        "The plot below shows a decline in old class performance. This decline in accuracy is due to catestropic forggeting. The network continually forgets parameters related to previous data when attempting to learn from new data. As a result, the internetnetwrok forgets previously learned information.\n"
      ],
      "metadata": {
        "id": "6EV5Gdgv5JGq"
      }
    },
    {
      "cell_type": "code",
      "source": [
        "import torch\n",
        "import torch.nn as nn\n",
        "import os\n",
        "import copy\n",
        "import torch.nn.functional as F\n",
        "import torchaudio\n",
        "import models\n",
        "from torch.utils.data import DataLoader,random_split,Dataset\n",
        "# from torch.optim import lr_scheduler\n",
        "import torchvision\n",
        "from utils import label_to_index, index_to_label, get_average_of_list\n",
        "import utils\n",
        "from dataset import SubsetSC\n",
        "# import pickle\n",
        "import matplotlib.pyplot as plt\n",
        "from tqdm.notebook import tqdm\n",
        "import pandas as pd\n",
        "# from datetime import datetime"
      ],
      "metadata": {
        "id": "-xNhdS3gGd_f"
      },
      "execution_count": 2,
      "outputs": []
    },
    {
      "cell_type": "code",
      "source": [
        "%matplotlib inline\n",
        "plt.rcParams[\"figure.figsize\"] = [10, 10]"
      ],
      "metadata": {
        "id": "Qzw7nb6lGoZR"
      },
      "execution_count": 3,
      "outputs": []
    },
    {
      "cell_type": "code",
      "source": [
        "torch.cuda.is_available()"
      ],
      "metadata": {
        "colab": {
          "base_uri": "https://localhost:8080/"
        },
        "id": "wv6sAO05Guse",
        "outputId": "e2d742ff-afe4-4501-c6ac-f61292584f1b"
      },
      "execution_count": 4,
      "outputs": [
        {
          "output_type": "execute_result",
          "data": {
            "text/plain": [
              "True"
            ]
          },
          "metadata": {},
          "execution_count": 4
        }
      ]
    },
    {
      "cell_type": "markdown",
      "source": [
        "# Data Processing"
      ],
      "metadata": {
        "id": "VrgG_H4X-n6L"
      }
    },
    {
      "cell_type": "code",
      "source": [
        "#list of novel class targets that we'd use for further training \n",
        "random_targets = ['follow']\n",
        "\n",
        "traindata = SubsetSC(\"training\", \"novel\", novel_class_list= random_targets)\n",
        "testdata = SubsetSC(\"testing\", \"novel\", novel_class_list= random_targets)\n",
        "\n",
        "#for classification labels would be combination of novel classes and old classes(digits)\n",
        "targets_list = [os.path.basename(os.path.dirname(traindata._walker[i])) for i in range(len(traindata))]\n",
        "novel_targets = list(set(targets_list))\n",
        "digits = ['zero','one', 'two', 'three', 'four', 'five', 'six', 'seven', 'eight', 'nine'] \n",
        "total_targets_list = digits + novel_targets \n",
        "\n",
        "#create index list of total target to later use in training data analysis\n",
        "novel_targets_list_indices = []\n",
        "for i in novel_targets:\n",
        "        novel_targets_list_indices.append(label_to_index(total_targets_list, i).item())\n",
        "\n",
        "def pad_sequence(batch):\n",
        "    # Make all tensor in a batch the same length by padding with zeros\n",
        "    batch = [item.t() for item in batch]\n",
        "    batch = torch.nn.utils.rnn.pad_sequence(batch, batch_first=True, padding_value=0.)\n",
        "    return batch.permute(0, 2, 1)\n",
        "\n",
        "\n",
        "def collate_fn(batch):\n",
        "        tensors, targets = [], []\n",
        "        for waveform, label in batch:\n",
        "                tensors += [torch.squeeze(waveform)]\n",
        "                targets += [label_to_index(total_targets_list, label)]\n",
        "                \n",
        "        tensors = torch.unsqueeze(pad_sequence(tensors), 1)\n",
        "        targets = torch.stack(targets)\n",
        "        return tensors, targets\n",
        "\n",
        "novel_train_dataloader = DataLoader(traindata,batch_size=20, collate_fn=collate_fn, shuffle=True)\n",
        "novel_test_dataloader = DataLoader(testdata, batch_size = 20, collate_fn=collate_fn, shuffle=True)\n",
        "\n",
        "old_testdata = SubsetSC(\"testing\", \"old\")\n",
        "old_test_dataloader = DataLoader(old_testdata,batch_size=20, collate_fn=collate_fn, shuffle=True)"
      ],
      "metadata": {
        "id": "Y62QlsC4G4iZ",
        "colab": {
          "base_uri": "https://localhost:8080/",
          "height": 49,
          "referenced_widgets": [
            "dfe184db5c7b401c881902fcd2898134",
            "207a991a46b84704838906f36ad2d9a4",
            "83f2c66bd1c64598a2cd877fc84dc7ed",
            "97d0e9ff062548279a108530253be266",
            "227422fea8fc41679ca8f765a9dacc1b",
            "5da5d95de36441e98d1056476993b9cf",
            "5492958ad27e4fab955a3b49243e519d",
            "a8fa2e4359ce4ccf9b8c74d6dd91e786",
            "21301a1c89a44d749e235f02595d9e5e",
            "c6f7940d32764662b8083a3e28a41f8d",
            "2ceacb4fa5cf43deaab7cb984f422807"
          ]
        },
        "outputId": "1a13599a-61f8-4610-f8f1-a932d9d44b59"
      },
      "execution_count": 5,
      "outputs": [
        {
          "output_type": "display_data",
          "data": {
            "text/plain": [
              "  0%|          | 0.00/2.26G [00:00<?, ?B/s]"
            ],
            "application/vnd.jupyter.widget-view+json": {
              "version_major": 2,
              "version_minor": 0,
              "model_id": "dfe184db5c7b401c881902fcd2898134"
            }
          },
          "metadata": {}
        }
      ]
    },
    {
      "cell_type": "code",
      "source": [
        "from statistics import mean"
      ],
      "metadata": {
        "id": "--nprh3yfYKc"
      },
      "execution_count": 6,
      "outputs": []
    },
    {
      "cell_type": "code",
      "source": [
        "device = torch.device(\"cuda\" if torch.cuda.is_available() else \"cpu\")"
      ],
      "metadata": {
        "id": "LHrYXoCkkOEd"
      },
      "execution_count": 7,
      "outputs": []
    },
    {
      "cell_type": "code",
      "source": [
        "def get_convnet(convnet_type):\n",
        "    name = convnet_type.lower()\n",
        "    if name == \"vgg\":\n",
        "      FILE_PATH = \"./savedmodels/vgg_checkpoint.pth\"\n",
        "      print(\"getting VGG pre-trained model\")\n",
        "      vgg_model = models.VGGNet()\n",
        "      vgg_model.load_state_dict(copy.deepcopy(torch.load(FILE_PATH, map_location='cpu')), strict=False)\n",
        "      return vgg_model\n",
        "    elif name == \"alexnet\":\n",
        "      FILE_PATH = \"./savedmodels/checkpoint_alexnet.pth\"\n",
        "      print(\"getting AlexNet pre-trained model\")\n",
        "      alexnet_model = models.AlexNet()\n",
        "      alexnet_model.load_state_dict(copy.deepcopy(torch.load(FILE_PATH, map_location='cpu')), strict=False)\n",
        "      return alexnet_model\n",
        "\n",
        "\n",
        "def calculate_accuracy(dataloader, model):\n",
        "  #Accuracy for given test data\n",
        "  model.to(device)\n",
        "  with torch.no_grad():\n",
        "    class_acc =[]\n",
        "    model.eval()\n",
        "    for i, (inputs, labels) in enumerate(dataloader):\n",
        "      inputs, labels = inputs.to(device), labels.to(device)\n",
        "      logits = model(inputs)\n",
        "      loss = F.cross_entropy(logits, labels)\n",
        "      _, pred = logits.max(1)\n",
        "      acc = (pred == labels).sum().item() / pred.size(0)\n",
        "      class_acc.append(acc)\n",
        "  return mean(class_acc), loss.item()"
      ],
      "metadata": {
        "id": "b8y4mFaCHUI7"
      },
      "execution_count": 8,
      "outputs": []
    },
    {
      "cell_type": "markdown",
      "source": [
        "# Training method"
      ],
      "metadata": {
        "id": "ydnGsicG-tLW"
      }
    },
    {
      "cell_type": "code",
      "source": [
        "def train(train_dataloader, test_dataloader, old_test_dataloader, optimizer, model, num_epochs, log = []):\n",
        "  #traing pipeline\n",
        "  for epoch in range(num_epochs):\n",
        "    running_loss = []\n",
        "    running_accuracy = []\n",
        "    model.to(device)\n",
        "    model.train()\n",
        "    for i, (inputs, labels) in enumerate(train_dataloader):\n",
        "      inputs, labels = inputs.to(device), labels.to(device)\n",
        "      logits = model(inputs) #batch_size x 14\n",
        "      loss = F.cross_entropy(logits, labels)\n",
        "      optimizer.zero_grad()\n",
        "      loss.backward() \n",
        "      optimizer.step()\n",
        "      running_loss.append(loss.item())\n",
        "      _, pred = logits.max(1)\n",
        "      acc = (pred == labels).sum().item() / pred.size(0)\n",
        "      running_accuracy.append(acc)\n",
        "    train_loss = mean(running_loss)\n",
        "    train_accuracy = mean(running_accuracy)\n",
        "    test_accuracy , test_loss = calculate_accuracy(dataloader=test_dataloader, model=model)\n",
        "    old_class_accuracy, old_class_loss = calculate_accuracy(dataloader=old_test_dataloader, model=model)\n",
        "    print(f\"Epoch [{epoch}]... train_loss: {train_loss}, train_acc: {train_accuracy}\")\n",
        "    print(f\"\\t     val_loss: {test_loss}, val_acc: {test_accuracy}\")\n",
        "    print(f\"\\t     old_loss: {old_class_loss}, old_acc: {old_class_accuracy}\")\n",
        "    log.append({\n",
        "    'epoch': epoch,\n",
        "    'train_loss': train_loss,\n",
        "    'train_accuracy': train_accuracy,\n",
        "    'val_loss': test_loss,\n",
        "    'val_accuracy': test_accuracy,\n",
        "    'old_class_loss' : old_class_loss,\n",
        "    'old_class_accuracy': old_class_accuracy\n",
        "    })\n",
        "  return"
      ],
      "metadata": {
        "id": "aXZE5sRnHhv4"
      },
      "execution_count": 9,
      "outputs": []
    },
    {
      "cell_type": "code",
      "source": [
        "import numpy as np"
      ],
      "metadata": {
        "id": "WbymyuCbfx7b"
      },
      "execution_count": 10,
      "outputs": []
    },
    {
      "cell_type": "code",
      "source": [
        "def _incremental_model(model, _no_out_features: int = 0):\n",
        "  #this function increase nodes in the last layer to learn new task\n",
        "  in_features = model.linear.in_features\n",
        "  out_features = model.linear.out_features\n",
        "  #everytime increment class with one new class\n",
        "  incremental_model_linear = nn.Linear(in_features=in_features, out_features=1)\n",
        "  incremental_model_linear.to(device)\n",
        "  model.to(device)\n",
        "\n",
        "  nn.init.constant_(incremental_model_linear.bias, 0)\n",
        "\n",
        "  old_weights = copy.deepcopy(model.linear.weight.data)\n",
        "  old_bias = copy.deepcopy(model.linear.bias.data)\n",
        "  incremental_model_linear_weights = copy.deepcopy(incremental_model_linear.weight.data)\n",
        "  incremental_model_linear_bias = copy.deepcopy(incremental_model_linear.bias.data)\n",
        "  model.linear = nn.Linear(in_features=in_features, out_features=_no_out_features)\n",
        "  \n",
        "  new_weights = torch.cat([old_weights, incremental_model_linear_weights], dim=0)\n",
        "  new_bias = torch.cat([old_bias, incremental_model_linear_bias] ,dim=0)\n",
        "  model.linear.weight.data = new_weights\n",
        "  model.linear.bias.data = new_bias\n",
        "\n",
        "  return model"
      ],
      "metadata": {
        "id": "hIol1CKej-6z"
      },
      "execution_count": 11,
      "outputs": []
    },
    {
      "cell_type": "markdown",
      "source": [
        "#Continous learning for new tasks"
      ],
      "metadata": {
        "id": "N0BMBgoCcjE1"
      }
    },
    {
      "cell_type": "code",
      "source": [
        "learning_rate = 0.001\n",
        "num_epochs = 3 #we will train only for few epoch because it decreases accuracy rapidly\n",
        "log = []\n",
        "_network = 'vgg'\n",
        "\n",
        "# #Model \n",
        "device = torch.device(\"cuda\" if torch.cuda.is_available() else \"cpu\")\n",
        "# load model\n",
        "print(\"Loading the pre-trained model...\")\n",
        "model = get_convnet(\"vgg\")\n",
        "\n",
        "# save old accuracy before increment to know the old class performance beforehand\n",
        "old_class_accuracy, old_class_loss = calculate_accuracy(dataloader=old_test_dataloader, model=model)\n",
        "log.append({\n",
        "  'epoch': -1,\n",
        "  'train_loss': np.nan,\n",
        "  'train_accuracy': 0,\n",
        "  'val_loss': np.nan,\n",
        "  'val_accuracy': 0,\n",
        "  'old_class_loss' : old_class_loss,\n",
        "  'old_class_accuracy': old_class_accuracy\n",
        "  })\n"
      ],
      "metadata": {
        "id": "psOGpYCAR51n",
        "colab": {
          "base_uri": "https://localhost:8080/"
        },
        "outputId": "da5644a1-1515-47fc-d70a-b99dea7c7e7d"
      },
      "execution_count": 22,
      "outputs": [
        {
          "output_type": "stream",
          "name": "stdout",
          "text": [
            "Loading the pre-trained model...\n",
            "getting VGG pre-trained model\n"
          ]
        }
      ]
    },
    {
      "cell_type": "code",
      "source": [
        "#list of new task  to be learn\n",
        "multiclass_learning = [\"follow\", \"marvin\", \"visual\", \"house\", \"happy\"]\n",
        "digits = ['zero','one', 'two', 'three', 'four', 'five', 'six', 'seven', 'eight', 'nine'] \n",
        "new_targets_list = digits\n",
        "#loop to take data individually for new tasks list and train \n",
        "for _class_name in multiclass_learning:\n",
        "  print(f\"Training for {_class_name}\")\n",
        "  \n",
        "  #process data for _class_name\n",
        "  traindata = SubsetSC(\"training\", \"novel\", novel_class_list= [_class_name], dataset_length= 100)\n",
        "  testdata = SubsetSC(\"testing\", \"novel\", novel_class_list= [_class_name], dataset_length=20)\n",
        "  new_targets_list += [_class_name]\n",
        "  def collate_fn(batch):\n",
        "          tensors, targets = [], []\n",
        "          for waveform, label in batch:\n",
        "                  tensors += [torch.squeeze(waveform)]\n",
        "                  targets += [label_to_index(new_targets_list, label)]\n",
        "          tensors = torch.unsqueeze(pad_sequence(tensors), 1)\n",
        "          targets = torch.stack(targets)\n",
        "          return tensors, targets\n",
        "  new_novel_train_dataloader = DataLoader(traindata,batch_size=20, collate_fn=collate_fn, shuffle=True)\n",
        "  new_novel_test_dataloader = DataLoader(testdata, batch_size = 10, collate_fn=collate_fn, shuffle=True)\n",
        "\n",
        "  #increse last nodes in multiclass\n",
        "  model = _incremental_model(model, _no_out_features = len(new_targets_list))\n",
        "  optimizer = torch.optim.SGD(model.parameters(), lr=learning_rate)\n",
        "  \n",
        "  #train for current _class_name\n",
        "  train(new_novel_train_dataloader, \n",
        "        new_novel_test_dataloader, \n",
        "        old_test_dataloader, \n",
        "        optimizer,\n",
        "        model, \n",
        "        num_epochs, \n",
        "        log)"
      ],
      "metadata": {
        "colab": {
          "base_uri": "https://localhost:8080/"
        },
        "id": "7U_7xZbicvnI",
        "outputId": "3ba0209b-1e50-495f-b252-62bd7d2e189b"
      },
      "execution_count": 23,
      "outputs": [
        {
          "output_type": "stream",
          "name": "stdout",
          "text": [
            "Training for follow\n",
            "Epoch [0]... train_loss: 0.5379878997802734, train_acc: 0.92\n",
            "\t     val_loss: 0.23387034237384796, val_acc: 0.95\n",
            "\t     old_loss: 19.15304946899414, old_acc: 0.6268377253814147\n",
            "Epoch [1]... train_loss: 0.06400499138040913, train_acc: 0.98\n",
            "\t     val_loss: 0.2037000209093094, val_acc: 0.95\n",
            "\t     old_loss: 23.269834518432617, old_acc: 0.6244105409153953\n",
            "Epoch [2]... train_loss: 0.653453355308784, train_acc: 0.97\n",
            "\t     val_loss: 8.792896551312879e-05, val_acc: 0.95\n",
            "\t     old_loss: 10.340228080749512, old_acc: 0.561754507628294\n",
            "Training for marvin\n",
            "Epoch [0]... train_loss: 1.8403638660907746, train_acc: 0.76\n",
            "\t     val_loss: 4.585028171539307, val_acc: 0.45\n",
            "\t     old_loss: 2.5059895515441895, old_acc: 0.4615117891816921\n",
            "Epoch [1]... train_loss: 0.5814764380455018, train_acc: 0.89\n",
            "\t     val_loss: 1.4005482196807861, val_acc: 0.55\n",
            "\t     old_loss: 5.834730625152588, old_acc: 0.37486130374479887\n",
            "Epoch [2]... train_loss: 0.3363437280058861, train_acc: 0.89\n",
            "\t     val_loss: 0.9733322858810425, val_acc: 0.6499999999999999\n",
            "\t     old_loss: 7.233851909637451, old_acc: 0.354750346740638\n",
            "Training for visual\n",
            "Epoch [0]... train_loss: 4.0071816220879555, train_acc: 0.64\n",
            "\t     val_loss: 0.480761855840683, val_acc: 0.9\n",
            "\t     old_loss: 17.67888069152832, old_acc: 0.3733009708737864\n",
            "Epoch [1]... train_loss: 0.4895840361714363, train_acc: 0.88\n",
            "\t     val_loss: 0.1752227246761322, val_acc: 1.0\n",
            "\t     old_loss: 9.015223503112793, old_acc: 0.28252427184466017\n",
            "Epoch [2]... train_loss: 0.41436510533094406, train_acc: 0.93\n",
            "\t     val_loss: 0.06854335218667984, val_acc: 1.0\n",
            "\t     old_loss: 18.268590927124023, old_acc: 0.14320388349514562\n",
            "Training for house\n",
            "Epoch [0]... train_loss: 8.137089452147483, train_acc: 0.66\n",
            "\t     val_loss: 0.16887976229190826, val_acc: 0.95\n",
            "\t     old_loss: 34.41203308105469, old_acc: 0.08907766990291262\n",
            "Epoch [1]... train_loss: 0.6855580940842628, train_acc: 0.86\n",
            "\t     val_loss: 0.19761380553245544, val_acc: 1.0\n",
            "\t     old_loss: 18.30936050415039, old_acc: 0.09199029126213593\n",
            "Epoch [2]... train_loss: 0.6033272400498391, train_acc: 0.9\n",
            "\t     val_loss: 0.10565192997455597, val_acc: 1.0\n",
            "\t     old_loss: 29.994916915893555, old_acc: 0.08248959778085992\n",
            "Training for happy\n",
            "Epoch [0]... train_loss: 7.73780512213707, train_acc: 0.61\n",
            "\t     val_loss: 0.4679214358329773, val_acc: 0.7\n",
            "\t     old_loss: 26.068283081054688, old_acc: 0.12936893203883496\n",
            "Epoch [1]... train_loss: 0.5836143795400858, train_acc: 0.91\n",
            "\t     val_loss: 0.7071858644485474, val_acc: 0.8500000000000001\n",
            "\t     old_loss: 15.857026100158691, old_acc: 0.11622746185852982\n",
            "Epoch [2]... train_loss: 0.5612488269805909, train_acc: 0.87\n",
            "\t     val_loss: 0.08313615620136261, val_acc: 0.95\n",
            "\t     old_loss: 26.194665908813477, old_acc: 0.07451456310679612\n"
          ]
        }
      ]
    },
    {
      "cell_type": "code",
      "source": [
        "#Plot log data for old class acuuracy\n",
        "df_log = pd.DataFrame(log)"
      ],
      "metadata": {
        "id": "z7FaYCmoqcQi"
      },
      "execution_count": 24,
      "outputs": []
    },
    {
      "cell_type": "code",
      "source": [
        "#save data  to further compare with other algorithms\n",
        "df_log.to_pickle(\"retraining_baseline.pkl\")"
      ],
      "metadata": {
        "id": "inwxftEvcHh1"
      },
      "execution_count": 27,
      "outputs": []
    },
    {
      "cell_type": "code",
      "source": [
        "plt.rcParams[\"figure.figsize\"] = [8, 8]"
      ],
      "metadata": {
        "id": "nTeqHT_51Ksu"
      },
      "execution_count": 48,
      "outputs": []
    },
    {
      "cell_type": "markdown",
      "source": [
        "#plot old class performance against task learned"
      ],
      "metadata": {
        "id": "0dDi9tgL_tR2"
      }
    },
    {
      "cell_type": "code",
      "source": [
        "fig = plt.figure()\n",
        "old_class_acc = df_log[['old_class_accuracy']][::num_epochs]\n",
        "task_number = np.arange(len(old_class_acc))\n",
        "plt.plot(task_number,old_class_acc, label= \"Old Task Accuracy\", marker = 'o')\n",
        "plt.xlabel(\"Num of task\", weight = 'bold')\n",
        "plt.ylabel(\"Accuracy\", weight = 'bold')\n",
        "plt.xticks(weight='bold')\n",
        "plt.yticks(np.arange(0,1.1,0.1),weight='bold')\n",
        "plt.title(\"Old class accuracy with addition of new task\", weight = 'bold')\n",
        "plt.legend()\n",
        "fig.savefig(\"retraining_baseline.png\", format=\"png\", dpi=600, bbox_inches=\"tight\")\n",
        "fig.savefig(\"retraining_baseline.eps\", format=\"eps\", dpi=1200, bbox_inches=\"tight\", transparent=True)\n",
        "fig.savefig(\"retraining_baseline.pdf\", format=\"pdf\", dpi=1200, bbox_inches=\"tight\", transparent=True)"
      ],
      "metadata": {
        "colab": {
          "base_uri": "https://localhost:8080/",
          "height": 568
        },
        "id": "9drorVCRcDOX",
        "outputId": "27a689d1-af86-480b-efd0-1d16c828d8d2"
      },
      "execution_count": 55,
      "outputs": [
        {
          "output_type": "stream",
          "name": "stderr",
          "text": [
            "WARNING:matplotlib.backends.backend_ps:The PostScript backend does not support transparency; partially transparent artists will be rendered opaque.\n",
            "WARNING:matplotlib.backends.backend_ps:The PostScript backend does not support transparency; partially transparent artists will be rendered opaque.\n"
          ]
        },
        {
          "output_type": "display_data",
          "data": {
            "text/plain": [
              "<Figure size 576x576 with 1 Axes>"
            ],
            "image/png": "[encoded data removed]"
          },
          "metadata": {
            "needs_background": "light"
          }
        }
      ]
    },
    {
      "cell_type": "markdown",
      "source": [
        "As shown in the plot above, due to catastrophic forgetting effect, the performance of the old class declines after continuously training the network for new tasks. "
      ],
      "metadata": {
        "id": "X1SxTZLP30Ec"
      }
    },
    {
      "cell_type": "code",
      "source": [],
      "metadata": {
        "id": "XiAwkw8C5E4m"
      },
      "execution_count": null,
      "outputs": []
    }
  ]
}